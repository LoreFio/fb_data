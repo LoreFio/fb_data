{
 "cells": [
  {
   "cell_type": "markdown",
   "metadata": {},
   "source": [
    "# Exploratory work for JOW\n",
    "## based on the Facebook Insights on the posts from 01/01/2019 up to 11/02/2020\n",
    " "
   ]
  },
  {
   "cell_type": "code",
   "execution_count": 1,
   "metadata": {},
   "outputs": [],
   "source": [
    "import numpy as np\n",
    "import os\n",
    "from sklearn.preprocessing import MinMaxScaler\n",
    "from sklearn.decomposition import PCA\n",
    "import pandas as pd\n",
    "import random \n",
    "import sys\n",
    "import matplotlib.pyplot as plt\n",
    "import seaborn as sns; sns.set()\n",
    "sns.set(rc={'figure.figsize':(6,4)})\n",
    "\n",
    "directory = \"C:/Users/lfiorentini/TequilaRapido/JOW/Data/FB\"\n",
    "directory_img = \"C:/Users/lfiorentini/TequilaRapido/JOW/Data/FB/img\"\n",
    "directory_csv = \"C:/Users/lfiorentini/TequilaRapido/JOW/Data/FB/csv\"\n",
    "file1 = \"Jan_May_19.csv\"\n",
    "file2 = \"Jun_Oct_19.csv\"\n",
    "file3 = \"Nov_Feb_20.csv\"\n",
    "feat_str = 8"
   ]
  },
  {
   "cell_type": "markdown",
   "metadata": {},
   "source": [
    "## Definition of keywords and function to count them\n",
    "we will work only with lowercase strings"
   ]
  },
  {
   "cell_type": "code",
   "execution_count": 2,
   "metadata": {},
   "outputs": [],
   "source": [
    "keywords_set_1 = ['electric', 'environment', 'sustainable', 'hybrid', 'co2']\n",
    "keywords_set_2 = ['mobility', 'share', 'co2', 'safety']\n",
    "keywords_set_3 = ['city', 'smart', 'co2', 'safety']\n",
    "\n",
    "# Car enthousiasts\n",
    "#keywords_set_4 = ['zoe', 'koleos', 'twingo', 'kangoo', 'ez-pro']\n",
    "keywords_set_4 = ['safe', 'maintenance', 'car service', 'car service', 'car service', ]\n",
    "\n",
    "def count_key_message(Message, key_set):\n",
    "    res = 0\n",
    "    for word in key_set:\n",
    "        if word in Message:\n",
    "            res += 1\n",
    "    return res"
   ]
  },
  {
   "cell_type": "markdown",
   "metadata": {},
   "source": [
    "## Upload data and concatenate different files\n",
    "* remove line 1 which is the description of the header\n",
    "* remove features with only NaN in one file\n",
    "* remove rows with only NaN for each file\n",
    "* reduce to common headers to all the files"
   ]
  },
  {
   "cell_type": "code",
   "execution_count": 3,
   "metadata": {},
   "outputs": [
    {
     "data": {
      "text/html": [
       "<div>\n",
       "<style scoped>\n",
       "    .dataframe tbody tr th:only-of-type {\n",
       "        vertical-align: middle;\n",
       "    }\n",
       "\n",
       "    .dataframe tbody tr th {\n",
       "        vertical-align: top;\n",
       "    }\n",
       "\n",
       "    .dataframe thead th {\n",
       "        text-align: right;\n",
       "    }\n",
       "</style>\n",
       "<table border=\"1\" class=\"dataframe\">\n",
       "  <thead>\n",
       "    <tr style=\"text-align: right;\">\n",
       "      <th></th>\n",
       "      <th>Audience targeting</th>\n",
       "      <th>Lifetime Average time video viewed</th>\n",
       "      <th>Lifetime Engaged Users</th>\n",
       "      <th>Lifetime Matched Audience Targeting Consumers on Post</th>\n",
       "      <th>Lifetime Matched Audience Targeting Consumptions by Type - link clicks</th>\n",
       "      <th>Lifetime Matched Audience Targeting Consumptions by Type - other clicks</th>\n",
       "      <th>Lifetime Matched Audience Targeting Consumptions by Type - photo view</th>\n",
       "      <th>Lifetime Matched Audience Targeting Consumptions by Type - video play</th>\n",
       "      <th>Lifetime Matched Audience Targeting Consumptions on Post</th>\n",
       "      <th>Lifetime Negative Feedback</th>\n",
       "      <th>...</th>\n",
       "      <th>Lifetime Post reach by people who like your Page</th>\n",
       "      <th>Lifetime Talking About This (Post) by action type - comment</th>\n",
       "      <th>Lifetime Talking About This (Post) by action type - like</th>\n",
       "      <th>Lifetime Talking About This (Post) by action type - share</th>\n",
       "      <th>Lifetime Video length</th>\n",
       "      <th>Permalink</th>\n",
       "      <th>Post ID</th>\n",
       "      <th>Post Message</th>\n",
       "      <th>Posted</th>\n",
       "      <th>Type</th>\n",
       "    </tr>\n",
       "  </thead>\n",
       "  <tbody>\n",
       "    <tr>\n",
       "      <th>0</th>\n",
       "      <td></td>\n",
       "      <td>0.0</td>\n",
       "      <td>158.0</td>\n",
       "      <td>113.0</td>\n",
       "      <td>6.0</td>\n",
       "      <td>108.0</td>\n",
       "      <td>9.0</td>\n",
       "      <td>NaN</td>\n",
       "      <td>123.0</td>\n",
       "      <td>0.0</td>\n",
       "      <td>...</td>\n",
       "      <td>2025.0</td>\n",
       "      <td>20.0</td>\n",
       "      <td>48.0</td>\n",
       "      <td>NaN</td>\n",
       "      <td>0.0</td>\n",
       "      <td>https://www.facebook.com/jowradio/posts/261933...</td>\n",
       "      <td>110764313093221_261933241309660</td>\n",
       "      <td>واش رايكم في قائمة الخضر المعنية بكأس امم إفري...</td>\n",
       "      <td>05/30/2019 11:05:07 AM</td>\n",
       "      <td>Photo</td>\n",
       "    </tr>\n",
       "    <tr>\n",
       "      <th>1</th>\n",
       "      <td></td>\n",
       "      <td>0.0</td>\n",
       "      <td>323.0</td>\n",
       "      <td>228.0</td>\n",
       "      <td>22.0</td>\n",
       "      <td>229.0</td>\n",
       "      <td>38.0</td>\n",
       "      <td>NaN</td>\n",
       "      <td>289.0</td>\n",
       "      <td>3.0</td>\n",
       "      <td>...</td>\n",
       "      <td>5691.0</td>\n",
       "      <td>18.0</td>\n",
       "      <td>120.0</td>\n",
       "      <td>2.0</td>\n",
       "      <td>0.0</td>\n",
       "      <td>https://www.facebook.com/jowradio/posts/261930...</td>\n",
       "      <td>110764313093221_261930774643240</td>\n",
       "      <td>اليوم رايحا تتروبل في استوديو بالون لأن أنصار ...</td>\n",
       "      <td>05/30/2019 11:00:46 AM</td>\n",
       "      <td>Photo</td>\n",
       "    </tr>\n",
       "    <tr>\n",
       "      <th>2</th>\n",
       "      <td></td>\n",
       "      <td>0.0</td>\n",
       "      <td>52.0</td>\n",
       "      <td>32.0</td>\n",
       "      <td>1.0</td>\n",
       "      <td>28.0</td>\n",
       "      <td>6.0</td>\n",
       "      <td>NaN</td>\n",
       "      <td>35.0</td>\n",
       "      <td>1.0</td>\n",
       "      <td>...</td>\n",
       "      <td>1166.0</td>\n",
       "      <td>1.0</td>\n",
       "      <td>22.0</td>\n",
       "      <td>NaN</td>\n",
       "      <td>0.0</td>\n",
       "      <td>https://www.facebook.com/jowradio/posts/261929...</td>\n",
       "      <td>110764313093221_261929677976683</td>\n",
       "      <td>ضيفنا اليوم في بالون هو اللاعب الدولي الجزائري...</td>\n",
       "      <td>05/30/2019 11:00:25 AM</td>\n",
       "      <td>Photo</td>\n",
       "    </tr>\n",
       "    <tr>\n",
       "      <th>3</th>\n",
       "      <td></td>\n",
       "      <td>15649.0</td>\n",
       "      <td>502.0</td>\n",
       "      <td>466.0</td>\n",
       "      <td>NaN</td>\n",
       "      <td>400.0</td>\n",
       "      <td>NaN</td>\n",
       "      <td>243.0</td>\n",
       "      <td>644.0</td>\n",
       "      <td>0.0</td>\n",
       "      <td>...</td>\n",
       "      <td>5336.0</td>\n",
       "      <td>8.0</td>\n",
       "      <td>54.0</td>\n",
       "      <td>4.0</td>\n",
       "      <td>121662.0</td>\n",
       "      <td>https://www.facebook.com/jowradio/posts/261638...</td>\n",
       "      <td>110764313093221_261638561339128</td>\n",
       "      <td>دانيا إيدير طفلة صغيرة  لكن عندها كثر من 300 أ...</td>\n",
       "      <td>05/30/2019 10:20:00 AM</td>\n",
       "      <td>Video</td>\n",
       "    </tr>\n",
       "    <tr>\n",
       "      <th>4</th>\n",
       "      <td></td>\n",
       "      <td>9940.0</td>\n",
       "      <td>422.0</td>\n",
       "      <td>385.0</td>\n",
       "      <td>NaN</td>\n",
       "      <td>258.0</td>\n",
       "      <td>NaN</td>\n",
       "      <td>234.0</td>\n",
       "      <td>493.0</td>\n",
       "      <td>0.0</td>\n",
       "      <td>...</td>\n",
       "      <td>3900.0</td>\n",
       "      <td>10.0</td>\n",
       "      <td>42.0</td>\n",
       "      <td>3.0</td>\n",
       "      <td>47785.0</td>\n",
       "      <td>https://www.facebook.com/jowradio/posts/261635...</td>\n",
       "      <td>110764313093221_261635888006062</td>\n",
       "      <td>أصغر مؤثرة  على الانستغرام  دنيا إيدير : &amp;quot...</td>\n",
       "      <td>05/30/2019 09:30:00 AM</td>\n",
       "      <td>Video</td>\n",
       "    </tr>\n",
       "  </tbody>\n",
       "</table>\n",
       "<p>5 rows × 54 columns</p>\n",
       "</div>"
      ],
      "text/plain": [
       "  Audience targeting  Lifetime Average time video viewed  \\\n",
       "0                                                    0.0   \n",
       "1                                                    0.0   \n",
       "2                                                    0.0   \n",
       "3                                                15649.0   \n",
       "4                                                 9940.0   \n",
       "\n",
       "   Lifetime Engaged Users  \\\n",
       "0                   158.0   \n",
       "1                   323.0   \n",
       "2                    52.0   \n",
       "3                   502.0   \n",
       "4                   422.0   \n",
       "\n",
       "   Lifetime Matched Audience Targeting Consumers on Post  \\\n",
       "0                                              113.0       \n",
       "1                                              228.0       \n",
       "2                                               32.0       \n",
       "3                                              466.0       \n",
       "4                                              385.0       \n",
       "\n",
       "   Lifetime Matched Audience Targeting Consumptions by Type - link clicks  \\\n",
       "0                                                6.0                        \n",
       "1                                               22.0                        \n",
       "2                                                1.0                        \n",
       "3                                                NaN                        \n",
       "4                                                NaN                        \n",
       "\n",
       "   Lifetime Matched Audience Targeting Consumptions by Type - other clicks  \\\n",
       "0                                              108.0                         \n",
       "1                                              229.0                         \n",
       "2                                               28.0                         \n",
       "3                                              400.0                         \n",
       "4                                              258.0                         \n",
       "\n",
       "   Lifetime Matched Audience Targeting Consumptions by Type - photo view  \\\n",
       "0                                                9.0                       \n",
       "1                                               38.0                       \n",
       "2                                                6.0                       \n",
       "3                                                NaN                       \n",
       "4                                                NaN                       \n",
       "\n",
       "   Lifetime Matched Audience Targeting Consumptions by Type - video play  \\\n",
       "0                                                NaN                       \n",
       "1                                                NaN                       \n",
       "2                                                NaN                       \n",
       "3                                              243.0                       \n",
       "4                                              234.0                       \n",
       "\n",
       "   Lifetime Matched Audience Targeting Consumptions on Post  \\\n",
       "0                                              123.0          \n",
       "1                                              289.0          \n",
       "2                                               35.0          \n",
       "3                                              644.0          \n",
       "4                                              493.0          \n",
       "\n",
       "   Lifetime Negative Feedback  ...  \\\n",
       "0                         0.0  ...   \n",
       "1                         3.0  ...   \n",
       "2                         1.0  ...   \n",
       "3                         0.0  ...   \n",
       "4                         0.0  ...   \n",
       "\n",
       "   Lifetime Post reach by people who like your Page  \\\n",
       "0                                            2025.0   \n",
       "1                                            5691.0   \n",
       "2                                            1166.0   \n",
       "3                                            5336.0   \n",
       "4                                            3900.0   \n",
       "\n",
       "   Lifetime Talking About This (Post) by action type - comment  \\\n",
       "0                                               20.0             \n",
       "1                                               18.0             \n",
       "2                                                1.0             \n",
       "3                                                8.0             \n",
       "4                                               10.0             \n",
       "\n",
       "   Lifetime Talking About This (Post) by action type - like  \\\n",
       "0                                               48.0          \n",
       "1                                              120.0          \n",
       "2                                               22.0          \n",
       "3                                               54.0          \n",
       "4                                               42.0          \n",
       "\n",
       "   Lifetime Talking About This (Post) by action type - share  \\\n",
       "0                                                NaN           \n",
       "1                                                2.0           \n",
       "2                                                NaN           \n",
       "3                                                4.0           \n",
       "4                                                3.0           \n",
       "\n",
       "   Lifetime Video length                                          Permalink  \\\n",
       "0                    0.0  https://www.facebook.com/jowradio/posts/261933...   \n",
       "1                    0.0  https://www.facebook.com/jowradio/posts/261930...   \n",
       "2                    0.0  https://www.facebook.com/jowradio/posts/261929...   \n",
       "3               121662.0  https://www.facebook.com/jowradio/posts/261638...   \n",
       "4                47785.0  https://www.facebook.com/jowradio/posts/261635...   \n",
       "\n",
       "                           Post ID  \\\n",
       "0  110764313093221_261933241309660   \n",
       "1  110764313093221_261930774643240   \n",
       "2  110764313093221_261929677976683   \n",
       "3  110764313093221_261638561339128   \n",
       "4  110764313093221_261635888006062   \n",
       "\n",
       "                                        Post Message                  Posted  \\\n",
       "0  واش رايكم في قائمة الخضر المعنية بكأس امم إفري...  05/30/2019 11:05:07 AM   \n",
       "1  اليوم رايحا تتروبل في استوديو بالون لأن أنصار ...  05/30/2019 11:00:46 AM   \n",
       "2  ضيفنا اليوم في بالون هو اللاعب الدولي الجزائري...  05/30/2019 11:00:25 AM   \n",
       "3  دانيا إيدير طفلة صغيرة  لكن عندها كثر من 300 أ...  05/30/2019 10:20:00 AM   \n",
       "4  أصغر مؤثرة  على الانستغرام  دنيا إيدير : &quot...  05/30/2019 09:30:00 AM   \n",
       "\n",
       "    Type  \n",
       "0  Photo  \n",
       "1  Photo  \n",
       "2  Photo  \n",
       "3  Video  \n",
       "4  Video  \n",
       "\n",
       "[5 rows x 54 columns]"
      ]
     },
     "execution_count": 3,
     "metadata": {},
     "output_type": "execute_result"
    }
   ],
   "source": [
    "headers = pd.read_csv(os.path.join(directory, file1), header=0, nrows = 1)#, converters = conver_dict)\n",
    "type_dict = {}\n",
    "for i in range(len(headers.columns)):\n",
    "    if i < feat_str: \n",
    "        type_dict[headers.columns[i]] = str\n",
    "    else:\n",
    "        type_dict[headers.columns[i]] = np.float64 #we need float to deal with all the NaN\n",
    "Data1 = pd.read_csv(os.path.join(directory, file1), header=0, skiprows = [1], dtype = type_dict)\n",
    "Data2 = pd.read_csv(os.path.join(directory, file2), header=0, skiprows = [1], dtype = type_dict)\n",
    "Data3 = pd.read_csv(os.path.join(directory, file3), header=0, skiprows = [1], dtype = type_dict)\n",
    "\n",
    "Data1.dropna(axis = 1, how='all', inplace=True)\n",
    "Data2.dropna(axis = 1, how='all', inplace=True)\n",
    "Data3.dropna(axis = 1, how='all', inplace=True)\n",
    "\n",
    "#print(len(Data1.columns))\n",
    "#print(len(Data2.columns))\n",
    "#print(len(Data3.columns))\n",
    "\n",
    "common_head = list(set(Data1.columns) & set(Data2.columns) & set(Data3.columns))\n",
    "len(common_head)\n",
    "\n",
    "def remove_not_common(Data, common):\n",
    "    for i in Data.columns:\n",
    "        if i not in common_head:\n",
    "            Data.drop(i, axis = 1, inplace = True)\n",
    "\n",
    "remove_not_common(Data1, common_head)\n",
    "remove_not_common(Data2, common_head)\n",
    "remove_not_common(Data3, common_head)\n",
    "\n",
    "#print(len(Data1.columns))\n",
    "#print(len(Data2.columns))\n",
    "#print(len(Data3.columns))\n",
    "\n",
    "Data_f = pd.concat([Data1, Data2, Data3], sort=True)\n",
    "Data_f.reset_index(drop = True, inplace = True)\n",
    "Data_f.head()"
   ]
  },
  {
   "cell_type": "markdown",
   "metadata": {},
   "source": [
    "## First step of feature engineering\n",
    "\n",
    "* remove features with at most one value (no variance no need)\n",
    "* remove features with more than 25% of NaN value\n",
    "* drop the publication ID and link\n",
    "* transform the message to lowercase\n",
    "* remove 'lifetime' from the feature name \n",
    "* remove rows with still some NaN\n",
    "* remove rows corresponding to status or to a link (they are either errors or irrelevant)\n"
   ]
  },
  {
   "cell_type": "code",
   "execution_count": 4,
   "metadata": {},
   "outputs": [
    {
     "name": "stdout",
     "output_type": "stream",
     "text": [
      "['Photo' 'Video' 'Link' 'SharedVideo' 0 'Status']\n"
     ]
    }
   ],
   "source": [
    "Data_f.fillna(value = 0, inplace = True)\n",
    "list_useless = []\n",
    "for col_name in Data_f.columns:\n",
    "    if len(Data_f[col_name].unique()) <= 1:\n",
    "        list_useless.append(col_name)\n",
    "Data_f.drop(list_useless, axis=1, inplace=True)\n",
    "\n",
    "Data_comment = Data_f['Post Message'].copy()\n",
    "\n",
    "Data_f.drop(['Post ID','Permalink'], axis=1, inplace=True)\n",
    "#Data_f.drop(['Identifiant de la publication','Lien permanent','Publié'], axis=1, inplace=True)\n",
    "\n",
    "#Data_f['Message de publication'] = Data_f['Message de publication'].str.lower()\n",
    "Data_f['Post Message'] = Data_f['Post Message'].str.lower()\n",
    "    \n",
    "tmp = Data_f.columns.copy()\n",
    "tmp = [x.replace(\"Lifetime \",\"\") for x in tmp]\n",
    "Data_f.columns = tmp\n",
    "\n",
    "Data_f.dropna(axis = 0, how='any', inplace=True)\n",
    "print(Data_f['Type'].unique())\n",
    "Data_f.drop(Data_f[Data_f['Type'] == 'SharedVideo'].index, inplace=True)\n",
    "Data_f.drop(Data_f[Data_f['Type'] == 0].index, inplace=True)\n",
    "Data_f.drop(Data_f[Data_f['Type'] == 'Status'].index, inplace=True)\n",
    "Data_f.drop(Data_f[Data_f['Type'] == 'Link'].index, inplace=True)"
   ]
  },
  {
   "cell_type": "markdown",
   "metadata": {},
   "source": [
    "## Second step on feature engineering: time\n",
    "* Create timestamp\n",
    "* Create is_tequila\n",
    "* Create working_day\n",
    "* Create moment_day\n",
    "* Remove Posted\n"
   ]
  },
  {
   "cell_type": "code",
   "execution_count": 5,
   "metadata": {},
   "outputs": [],
   "source": [
    "from datetime import datetime\n",
    "\n",
    "def working_day(date_str):\n",
    "    try:\n",
    "        day_code = datetime.strptime(date_str, '%m/%d/%Y %I:%M:%S %p')\n",
    "    except ValueError as e:\n",
    "        print('StrError:', date_str)\n",
    "        #print('ValueError:', e)\n",
    "    day_code = day_code.weekday()\n",
    "    return day_code != 0 and day_code != 6\n",
    "\n",
    "def moment_day(date_str):\n",
    "    hour = datetime.strptime(date_str, '%m/%d/%Y %I:%M:%S %p').hour\n",
    "    if hour <= 6 or hour >= 23:\n",
    "        return \"Night\"\n",
    "    if hour <= 10 or hour >= 7:\n",
    "        return \"Morning\"\n",
    "    if hour <= 18 or hour >= 11:\n",
    "        return \"Working\"\n",
    "    return \"Evening\"\n",
    "\n",
    "def get_timestamp(date_str):\n",
    "    return datetime.timestamp(datetime.strptime(date_str, '%m/%d/%Y %I:%M:%S %p'))\n",
    "\n",
    "Data_f['timestamp'] = Data_f['Posted'].apply(get_timestamp)\n",
    "Data_f['working_day'] = Data_f['Posted'].apply(working_day)\n",
    "Data_f['moment_day'] = Data_f['Posted'].apply(moment_day)\n",
    "Data_f.drop('Posted', axis=1, inplace=True)\n",
    "Data_f['is_paid'] = Data_f['Post Paid Reach'] > 0\n",
    "Data_f = pd.get_dummies(Data_f, columns = ['moment_day', 'Type'], drop_first = True)"
   ]
  },
  {
   "cell_type": "markdown",
   "metadata": {},
   "source": [
    "## Third step of feature engineering\n",
    "Compute and display correlation matrices for the overall dataset as well as for data divided by post type"
   ]
  },
  {
   "cell_type": "code",
   "execution_count": 6,
   "metadata": {
    "scrolled": true
   },
   "outputs": [
    {
     "name": "stdout",
     "output_type": "stream",
     "text": [
      "(1321, 54)\n",
      "(52, 52)\n"
     ]
    },
    {
     "name": "stderr",
     "output_type": "stream",
     "text": [
      "C:\\Users\\lfiorentini\\anaconda3\\envs\\MachineLearning\\lib\\site-packages\\matplotlib\\colors.py:527: RuntimeWarning: invalid value encountered in less\n",
      "  xa[xa < 0] = -1\n"
     ]
    },
    {
     "data": {
      "text/plain": [
       "<function TextIOWrapper.close()>"
      ]
     },
     "execution_count": 6,
     "metadata": {},
     "output_type": "execute_result"
    }
   ],
   "source": [
    "Q1 = Data_f[Data_f['Type_Video'] == 1].drop('Type_Video', axis = 1).corr()\n",
    "#for the photo we have also to remove all the features that make sense only for a video\n",
    "video_attr_list = ['Type_Video', 'Organic views to 95%', 'Organic views to 95%.1',\\\n",
    "                                                    'Paid views to 95%', 'Paid views to 95%.1',\\\n",
    "                                                    'Organic Video Views', 'Organic Video Views.1',\\\n",
    "                                                    'Paid Video Views', 'Paid Video Views.1',\\\n",
    "                                                    'Organic Video Views', 'Organic Video Views.1',\\\n",
    "                                                    'Average time video viewed', 'Video length']\n",
    "Q2 = Data_f[Data_f['Type_Video'] == 1].drop(video_attr_list, axis = 1).corr()\n",
    "Q3 = Data_f.drop('Type_Video', axis = 1).corr()\n",
    "\n",
    "print(Data_f.shape)\n",
    "print(Q3.shape) # should have 2 attributes less since there is still the message and the rtype which are str\n",
    "pict1_html = 'Video_corr.html'\n",
    "pict2_html = 'Photo_corr.html'\n",
    "pict3_html = 'Global_corr.html'\n",
    "\n",
    "Html_file= open(os.path.join(directory_img, pict1_html),\"w\")\n",
    "Html_file.write(Q1.style.background_gradient(cmap='coolwarm').render())\n",
    "Html_file.close\n",
    "\n",
    "Html_file= open(os.path.join(directory_img, pict2_html),\"w\")\n",
    "Html_file.write(Q2.style.background_gradient(cmap='coolwarm').render())\n",
    "Html_file.close\n",
    "\n",
    "Html_file= open(os.path.join(directory_img, pict3_html),\"w\")\n",
    "Html_file.write(Q3.style.background_gradient(cmap='coolwarm').render())\n",
    "Html_file.close\n"
   ]
  },
  {
   "cell_type": "code",
   "execution_count": 7,
   "metadata": {},
   "outputs": [],
   "source": [
    "sns.set(rc={'figure.figsize':(24,12)})\n",
    "\n",
    "plt.subplot(1,3,1)\n",
    "sns.heatmap(Q1, cmap=\"YlGnBu\", vmin=-1, vmax=1, xticklabels = True, yticklabels = True)\n",
    "\n",
    "# we move this one to the right since it's different from the previous ones in terms of dimension\n",
    "plt.subplot(1,3,3)\n",
    "sns.heatmap(Q2, cmap=\"YlGnBu\", vmin=-1, vmax=1, xticklabels = True, yticklabels = False)\n",
    "\n",
    "plt.subplot(1,3,2)\n",
    "sns.heatmap(Q3, cmap=\"YlGnBu\", vmin=-1, vmax=1, xticklabels = True, yticklabels = False)\n",
    "\n",
    "plt.savefig(os.path.join(directory_img, \"corr_comparison.png\"))\n",
    "plt.close()"
   ]
  },
  {
   "cell_type": "markdown",
   "metadata": {},
   "source": [
    "## Comparison between organic et paid for Reach and Impression"
   ]
  },
  {
   "cell_type": "code",
   "execution_count": 10,
   "metadata": {
    "scrolled": true
   },
   "outputs": [
    {
     "ename": "KeyError",
     "evalue": "'Post organic reach'",
     "output_type": "error",
     "traceback": [
      "\u001b[1;31m---------------------------------------------------------------------------\u001b[0m",
      "\u001b[1;31mKeyError\u001b[0m                                  Traceback (most recent call last)",
      "\u001b[1;32m~\\anaconda3\\envs\\MachineLearning\\lib\\site-packages\\pandas\\core\\indexes\\base.py\u001b[0m in \u001b[0;36mget_loc\u001b[1;34m(self, key, method, tolerance)\u001b[0m\n\u001b[0;32m   2896\u001b[0m             \u001b[1;32mtry\u001b[0m\u001b[1;33m:\u001b[0m\u001b[1;33m\u001b[0m\u001b[1;33m\u001b[0m\u001b[0m\n\u001b[1;32m-> 2897\u001b[1;33m                 \u001b[1;32mreturn\u001b[0m \u001b[0mself\u001b[0m\u001b[1;33m.\u001b[0m\u001b[0m_engine\u001b[0m\u001b[1;33m.\u001b[0m\u001b[0mget_loc\u001b[0m\u001b[1;33m(\u001b[0m\u001b[0mkey\u001b[0m\u001b[1;33m)\u001b[0m\u001b[1;33m\u001b[0m\u001b[1;33m\u001b[0m\u001b[0m\n\u001b[0m\u001b[0;32m   2898\u001b[0m             \u001b[1;32mexcept\u001b[0m \u001b[0mKeyError\u001b[0m\u001b[1;33m:\u001b[0m\u001b[1;33m\u001b[0m\u001b[1;33m\u001b[0m\u001b[0m\n",
      "\u001b[1;32mpandas/_libs/index.pyx\u001b[0m in \u001b[0;36mpandas._libs.index.IndexEngine.get_loc\u001b[1;34m()\u001b[0m\n",
      "\u001b[1;32mpandas/_libs/index.pyx\u001b[0m in \u001b[0;36mpandas._libs.index.IndexEngine.get_loc\u001b[1;34m()\u001b[0m\n",
      "\u001b[1;32mpandas/_libs/hashtable_class_helper.pxi\u001b[0m in \u001b[0;36mpandas._libs.hashtable.PyObjectHashTable.get_item\u001b[1;34m()\u001b[0m\n",
      "\u001b[1;32mpandas/_libs/hashtable_class_helper.pxi\u001b[0m in \u001b[0;36mpandas._libs.hashtable.PyObjectHashTable.get_item\u001b[1;34m()\u001b[0m\n",
      "\u001b[1;31mKeyError\u001b[0m: 'Post organic reach'",
      "\nDuring handling of the above exception, another exception occurred:\n",
      "\u001b[1;31mKeyError\u001b[0m                                  Traceback (most recent call last)",
      "\u001b[1;32m<ipython-input-10-5f09b73f87d4>\u001b[0m in \u001b[0;36m<module>\u001b[1;34m\u001b[0m\n\u001b[0;32m      2\u001b[0m \u001b[0mplt\u001b[0m\u001b[1;33m.\u001b[0m\u001b[0mplot\u001b[0m\u001b[1;33m(\u001b[0m\u001b[0mData_f\u001b[0m\u001b[1;33m[\u001b[0m\u001b[1;34m'Post Total Reach'\u001b[0m\u001b[1;33m]\u001b[0m\u001b[1;33m.\u001b[0m\u001b[0msort_index\u001b[0m\u001b[1;33m(\u001b[0m\u001b[1;33m)\u001b[0m\u001b[1;33m,\u001b[0m \u001b[1;34m'k--'\u001b[0m\u001b[1;33m,\u001b[0m \u001b[0mlinewidth\u001b[0m\u001b[1;33m=\u001b[0m\u001b[1;36m2\u001b[0m\u001b[1;33m)\u001b[0m\u001b[1;33m\u001b[0m\u001b[1;33m\u001b[0m\u001b[0m\n\u001b[0;32m      3\u001b[0m \u001b[1;31m#plt.axhline(y = Data_f['Post Total Reach'].mean(), color = 'k')\u001b[0m\u001b[1;33m\u001b[0m\u001b[1;33m\u001b[0m\u001b[1;33m\u001b[0m\u001b[0m\n\u001b[1;32m----> 4\u001b[1;33m \u001b[0mplt\u001b[0m\u001b[1;33m.\u001b[0m\u001b[0mplot\u001b[0m\u001b[1;33m(\u001b[0m\u001b[0mData_f\u001b[0m\u001b[1;33m[\u001b[0m\u001b[1;34m'Post organic reach'\u001b[0m\u001b[1;33m]\u001b[0m\u001b[1;33m.\u001b[0m\u001b[0msort_index\u001b[0m\u001b[1;33m(\u001b[0m\u001b[1;33m)\u001b[0m\u001b[1;33m,\u001b[0m \u001b[1;34m'r--'\u001b[0m\u001b[1;33m)\u001b[0m\u001b[1;33m\u001b[0m\u001b[1;33m\u001b[0m\u001b[0m\n\u001b[0m\u001b[0;32m      5\u001b[0m \u001b[1;31m#plt.axhline(y = Data_f['Post organic reach'].mean(), color = 'r')\u001b[0m\u001b[1;33m\u001b[0m\u001b[1;33m\u001b[0m\u001b[1;33m\u001b[0m\u001b[0m\n\u001b[0;32m      6\u001b[0m \u001b[0mplt\u001b[0m\u001b[1;33m.\u001b[0m\u001b[0mplot\u001b[0m\u001b[1;33m(\u001b[0m\u001b[0mData_f\u001b[0m\u001b[1;33m[\u001b[0m\u001b[1;34m'Post Paid Reach'\u001b[0m\u001b[1;33m]\u001b[0m\u001b[1;33m.\u001b[0m\u001b[0msort_index\u001b[0m\u001b[1;33m(\u001b[0m\u001b[1;33m)\u001b[0m\u001b[1;33m,\u001b[0m \u001b[1;34m'g--'\u001b[0m\u001b[1;33m)\u001b[0m\u001b[1;33m\u001b[0m\u001b[1;33m\u001b[0m\u001b[0m\n",
      "\u001b[1;32m~\\anaconda3\\envs\\MachineLearning\\lib\\site-packages\\pandas\\core\\frame.py\u001b[0m in \u001b[0;36m__getitem__\u001b[1;34m(self, key)\u001b[0m\n\u001b[0;32m   2993\u001b[0m             \u001b[1;32mif\u001b[0m \u001b[0mself\u001b[0m\u001b[1;33m.\u001b[0m\u001b[0mcolumns\u001b[0m\u001b[1;33m.\u001b[0m\u001b[0mnlevels\u001b[0m \u001b[1;33m>\u001b[0m \u001b[1;36m1\u001b[0m\u001b[1;33m:\u001b[0m\u001b[1;33m\u001b[0m\u001b[1;33m\u001b[0m\u001b[0m\n\u001b[0;32m   2994\u001b[0m                 \u001b[1;32mreturn\u001b[0m \u001b[0mself\u001b[0m\u001b[1;33m.\u001b[0m\u001b[0m_getitem_multilevel\u001b[0m\u001b[1;33m(\u001b[0m\u001b[0mkey\u001b[0m\u001b[1;33m)\u001b[0m\u001b[1;33m\u001b[0m\u001b[1;33m\u001b[0m\u001b[0m\n\u001b[1;32m-> 2995\u001b[1;33m             \u001b[0mindexer\u001b[0m \u001b[1;33m=\u001b[0m \u001b[0mself\u001b[0m\u001b[1;33m.\u001b[0m\u001b[0mcolumns\u001b[0m\u001b[1;33m.\u001b[0m\u001b[0mget_loc\u001b[0m\u001b[1;33m(\u001b[0m\u001b[0mkey\u001b[0m\u001b[1;33m)\u001b[0m\u001b[1;33m\u001b[0m\u001b[1;33m\u001b[0m\u001b[0m\n\u001b[0m\u001b[0;32m   2996\u001b[0m             \u001b[1;32mif\u001b[0m \u001b[0mis_integer\u001b[0m\u001b[1;33m(\u001b[0m\u001b[0mindexer\u001b[0m\u001b[1;33m)\u001b[0m\u001b[1;33m:\u001b[0m\u001b[1;33m\u001b[0m\u001b[1;33m\u001b[0m\u001b[0m\n\u001b[0;32m   2997\u001b[0m                 \u001b[0mindexer\u001b[0m \u001b[1;33m=\u001b[0m \u001b[1;33m[\u001b[0m\u001b[0mindexer\u001b[0m\u001b[1;33m]\u001b[0m\u001b[1;33m\u001b[0m\u001b[1;33m\u001b[0m\u001b[0m\n",
      "\u001b[1;32m~\\anaconda3\\envs\\MachineLearning\\lib\\site-packages\\pandas\\core\\indexes\\base.py\u001b[0m in \u001b[0;36mget_loc\u001b[1;34m(self, key, method, tolerance)\u001b[0m\n\u001b[0;32m   2897\u001b[0m                 \u001b[1;32mreturn\u001b[0m \u001b[0mself\u001b[0m\u001b[1;33m.\u001b[0m\u001b[0m_engine\u001b[0m\u001b[1;33m.\u001b[0m\u001b[0mget_loc\u001b[0m\u001b[1;33m(\u001b[0m\u001b[0mkey\u001b[0m\u001b[1;33m)\u001b[0m\u001b[1;33m\u001b[0m\u001b[1;33m\u001b[0m\u001b[0m\n\u001b[0;32m   2898\u001b[0m             \u001b[1;32mexcept\u001b[0m \u001b[0mKeyError\u001b[0m\u001b[1;33m:\u001b[0m\u001b[1;33m\u001b[0m\u001b[1;33m\u001b[0m\u001b[0m\n\u001b[1;32m-> 2899\u001b[1;33m                 \u001b[1;32mreturn\u001b[0m \u001b[0mself\u001b[0m\u001b[1;33m.\u001b[0m\u001b[0m_engine\u001b[0m\u001b[1;33m.\u001b[0m\u001b[0mget_loc\u001b[0m\u001b[1;33m(\u001b[0m\u001b[0mself\u001b[0m\u001b[1;33m.\u001b[0m\u001b[0m_maybe_cast_indexer\u001b[0m\u001b[1;33m(\u001b[0m\u001b[0mkey\u001b[0m\u001b[1;33m)\u001b[0m\u001b[1;33m)\u001b[0m\u001b[1;33m\u001b[0m\u001b[1;33m\u001b[0m\u001b[0m\n\u001b[0m\u001b[0;32m   2900\u001b[0m         \u001b[0mindexer\u001b[0m \u001b[1;33m=\u001b[0m \u001b[0mself\u001b[0m\u001b[1;33m.\u001b[0m\u001b[0mget_indexer\u001b[0m\u001b[1;33m(\u001b[0m\u001b[1;33m[\u001b[0m\u001b[0mkey\u001b[0m\u001b[1;33m]\u001b[0m\u001b[1;33m,\u001b[0m \u001b[0mmethod\u001b[0m\u001b[1;33m=\u001b[0m\u001b[0mmethod\u001b[0m\u001b[1;33m,\u001b[0m \u001b[0mtolerance\u001b[0m\u001b[1;33m=\u001b[0m\u001b[0mtolerance\u001b[0m\u001b[1;33m)\u001b[0m\u001b[1;33m\u001b[0m\u001b[1;33m\u001b[0m\u001b[0m\n\u001b[0;32m   2901\u001b[0m         \u001b[1;32mif\u001b[0m \u001b[0mindexer\u001b[0m\u001b[1;33m.\u001b[0m\u001b[0mndim\u001b[0m \u001b[1;33m>\u001b[0m \u001b[1;36m1\u001b[0m \u001b[1;32mor\u001b[0m \u001b[0mindexer\u001b[0m\u001b[1;33m.\u001b[0m\u001b[0msize\u001b[0m \u001b[1;33m>\u001b[0m \u001b[1;36m1\u001b[0m\u001b[1;33m:\u001b[0m\u001b[1;33m\u001b[0m\u001b[1;33m\u001b[0m\u001b[0m\n",
      "\u001b[1;32mpandas/_libs/index.pyx\u001b[0m in \u001b[0;36mpandas._libs.index.IndexEngine.get_loc\u001b[1;34m()\u001b[0m\n",
      "\u001b[1;32mpandas/_libs/index.pyx\u001b[0m in \u001b[0;36mpandas._libs.index.IndexEngine.get_loc\u001b[1;34m()\u001b[0m\n",
      "\u001b[1;32mpandas/_libs/hashtable_class_helper.pxi\u001b[0m in \u001b[0;36mpandas._libs.hashtable.PyObjectHashTable.get_item\u001b[1;34m()\u001b[0m\n",
      "\u001b[1;32mpandas/_libs/hashtable_class_helper.pxi\u001b[0m in \u001b[0;36mpandas._libs.hashtable.PyObjectHashTable.get_item\u001b[1;34m()\u001b[0m\n",
      "\u001b[1;31mKeyError\u001b[0m: 'Post organic reach'"
     ]
    },
    {
     "data": {
      "image/png": "[encoded data removed]",
      "text/plain": [
       "<Figure size 1728x864 with 1 Axes>"
      ]
     },
     "metadata": {},
     "output_type": "display_data"
    }
   ],
   "source": [
    "plt.subplot(1,2,1)\n",
    "plt.plot(Data_f['Post Total Reach'].sort_index(), 'k--', linewidth=2)\n",
    "#plt.axhline(y = Data_f['Post Total Reach'].mean(), color = 'k')\n",
    "plt.plot(Data_f['Post organic reach'].sort_index(), 'r--')\n",
    "#plt.axhline(y = Data_f['Post organic reach'].mean(), color = 'r')\n",
    "plt.plot(Data_f['Post Paid Reach'].sort_index(), 'g--')\n",
    "#plt.axhline(y = Data_f['Post Paid Reach'].mean(), color = 'g')\n",
    "plt.title(\"Facebook Reach\")\n",
    "plt.legend((\"Total\", \"Organic\", \"Paid\"))\n",
    "\n",
    "plt.subplot(1,2,2)\n",
    "plt.plot(Data_f['Post Total Impressions'].sort_index(), 'k--', linewidth=2)\n",
    "#plt.axhline(y = Data_f['Post Total Impressions'].mean(), color = 'k')\n",
    "plt.plot(Data_f['Post Organic Impressions'].sort_index(), 'r--')\n",
    "#plt.axhline(y = Data_f['Post Organic Impressions'].mean(), color = 'r')\n",
    "plt.plot(Data_f['Post Paid Impressions'].sort_index(), 'g--')\n",
    "#plt.axhline(y = Data_f['Post Paid Impressions'].mean(), color = 'g')\n",
    "plt.title(\"Facebook Impressions\")\n",
    "plt.legend((\"Total\", \"Organic\", \"Paid\"))\n",
    "\n",
    "plt.savefig(os.path.join(directory_img, \"organic_paid.png\"), bbox_inches='tight')"
   ]
  },
  {
   "cell_type": "code",
   "execution_count": null,
   "metadata": {},
   "outputs": [],
   "source": [
    "plt.plot(Data_f['Post Total Reach'].sort_index(), 'k--')\n",
    "plt.plot(Data_f['Post organic reach'].sort_index(), 'r')"
   ]
  },
  {
   "cell_type": "markdown",
   "metadata": {},
   "source": [
    "## Fourth step of feature engineering\n",
    "* Remove couples of features that are very similar and are highly correlated to reduce the dimension of the dataset\n",
    "* Create 4 new variables corresponding to the number of times in which words from the 4 set of keywords has been used in a post\n",
    "* Insert features related to the effectiveness of the paid: paid/organic. If organic == 0 then effectiveness = 0 if paid == 0 1 otherwise"
   ]
  },
  {
   "cell_type": "code",
   "execution_count": 8,
   "metadata": {},
   "outputs": [],
   "source": [
    "\"\"\"Data to be removed cause highly correlated to Engaged Users\"\"\"\n",
    "Data_f.drop('Matched Audience Targeting Consumers on Post', axis = 1, inplace = True) \n",
    "Data_f.drop('Matched Audience Targeting Consumptions on Post', axis = 1, inplace = True) \n",
    "Data_f.drop('Matched Audience Targeting Consumptions by Type - other clicks', axis = 1, inplace = True)\n",
    "Data_f.drop('Post Audience Targeting Unique Consumptions by Type - other clicks', axis = 1, inplace = True)\n",
    "\n",
    "\"\"\"Data to be removed cause highly correlated to Negative Feedback\"\"\"\n",
    "Data_f.drop('Negative Feedback by Type - hide_all_clicks', axis = 1, inplace = True) \n",
    "Data_f.drop('Negative Feedback by Type - hide_clicks', axis = 1, inplace = True) \n",
    "Data_f.drop('Negative Feedback from Users', axis = 1, inplace = True) \n",
    "Data_f.drop('Negative Feedback from Users by Type - hide_all_clicks', axis = 1, inplace = True) \n",
    "Data_f.drop('Negative Feedback from Users by Type - hide_clicks', axis = 1, inplace = True)\n",
    "\n",
    "\"\"\"Data to be removed cause highly correlated to Post Total Reach\"\"\"\n",
    "Data_f.drop('Post Total Impressions', axis = 1, inplace = True)\n",
    "Data_f.drop('Post organic reach', axis = 1, inplace = True)\n",
    "Data_f.drop('Post Organic Impressions', axis = 1, inplace = True)\n",
    "Data_f.drop('Organic Video Views', axis = 1, inplace = True)\n",
    "Data_f.drop('Organic Video Views.1', axis = 1, inplace = True)\n",
    "\n",
    "\"\"\"Data to be removed cause highly correlated to Post Paid Reach\"\"\"\n",
    "Data_f.drop('Post Paid Impressions', axis = 1, inplace = True)\n",
    "Data_f.drop('Post Paid Impressions by people who have liked your Page', axis = 1, inplace = True)\n",
    "Data_f.drop('Paid Video Views.1', axis = 1, inplace = True)\n",
    "Data_f.drop('Paid Video Views', axis = 1, inplace = True)\n",
    "Data_f.drop('Paid reach of a post by people who like your Page', axis = 1, inplace = True)\n",
    "\n",
    "\"\"\"Data to be removed cause highly correlated to other features\"\"\"\n",
    "Data_f.drop('Organic views to 95%.1', axis = 1, inplace = True) # we keep \"Organic views to 95%\"\n",
    "Data_f.drop('Paid views to 95%.1', axis = 1, inplace = True) # we keep \"Paid views to 95%\"\n",
    "\n",
    "Data_f.drop('Post Stories by action type - share', axis = 1, inplace = True)\n",
    "# we keep \"Talking About This (Post) by action type - share\"\n",
    "Data_f.drop('Post Stories by action type - like', axis = 1, inplace = True)\n",
    "# we keep \"Talking About This (Post) by action type - like\"\n",
    "Data_f.drop('Post Stories by action type - comment', axis = 1, inplace = True)\n",
    "# we keep \"Talking About This (Post) by action type - comment\"\n",
    "\n",
    "Data_f.drop('Matched Audience Targeting Consumptions by Type - link clicks', axis = 1, inplace = True)\n",
    "# we keep \"Post Audience Targeting Unique Consumptions by Type - link clicks\"\n",
    "Data_f.drop('Matched Audience Targeting Consumptions by Type - photo view', axis = 1, inplace = True)\n",
    "# we keep \"Post Audience Targeting Unique Consumptions by Type - photo view\"\n",
    "Data_f.drop('Matched Audience Targeting Consumptions by Type - video play', axis = 1, inplace = True)\n",
    "# we keep \"Post Audience Targeting Unique Consumptions by Type - video play\"\n"
   ]
  },
  {
   "cell_type": "markdown",
   "metadata": {},
   "source": [
    "From this correlation matrix we understand that few features explain entire sets of features (corr >= 0.97.\n",
    "#### Engaged Users explains:\n",
    "* Matched Audience Targeting Consumers on Post\n",
    "* Matched Audience Targeting Consumptions on Post\n",
    "* Matched Audience Targeting Consumptions by Type - other clicks\n",
    "\n",
    "#### Negative Feedback explains:\n",
    "* Negative Feedback by Type - hide_all_clicks\n",
    "* Negative Feedback by Type - hide_clicks\n",
    "* Negative Feedback from Users\n",
    "* Negative Feedback from Users by Type - hide_clicks\n",
    "* Negative Feedback from Users by Type - hide_all_clicks\n",
    "\n",
    "#### Post Total Reach explains:\n",
    "* Post Total Impressions\n",
    "* Post organic reach\n",
    "* Post Organic Impressions\n",
    "* Organic Video Views\n",
    "* Organic Video Views.1\n",
    "\n",
    "#### Post Paid Reach explains:\n",
    "* Post Paid Impressions\n",
    "* Post Paid Impressions by people who have liked your Page\n",
    "* Paid Video Views\n",
    "* Paid Video Views.1\n",
    "* Paid reach of a post by people who like your Page\n",
    "\n",
    "Furthermore we notice that:\n",
    "* Matched Audience Targeting Consumptions are correlated with Post Audience Targeting Unique Consumptions for all types\n",
    "* Post Stories are correlated with Talking About This (Post) for all actions "
   ]
  },
  {
   "cell_type": "code",
   "execution_count": 9,
   "metadata": {},
   "outputs": [
    {
     "data": {
      "text/plain": [
       "<function TextIOWrapper.close()>"
      ]
     },
     "execution_count": 9,
     "metadata": {},
     "output_type": "execute_result"
    }
   ],
   "source": [
    "def paid_efficacity(org, paid):\n",
    "    if org != 0:\n",
    "        return paid/org\n",
    "    return float(paid > 0)\n",
    "\n",
    "#in french it's 'Message de publication'\n",
    "Data_f.drop('Post Message', axis = 1, inplace = True)\n",
    "\n",
    "#Data_f['Paid views to 95% eff'] = Data_f['Organic views to 95%'].apply(paid_efficacity, paid = Data_f['Paid views to 95%'])\n",
    "#Data_f['Paid Video Views eff'] = Data_f['Organic Video Views'].apply(paid_efficacity, paid = Data_f['Paid Video Views'])\n",
    "\n",
    "Q4 = Data_f[Data_f['Type_Video'] == 1].corr()\n",
    "Q5 = Data_f[Data_f['Type_Video'] == 0].corr()\n",
    "Q6 = Data_f.corr()\n",
    "\n",
    "plt.subplot(1,3,1)\n",
    "sns.heatmap(Q4, cmap=\"YlGnBu\", vmin=-1, vmax=1, xticklabels = True, yticklabels = True)\n",
    "\n",
    "# we move this one to the right since it's different from the previous ones in terms of dimension\n",
    "plt.subplot(1,3,3)\n",
    "sns.heatmap(Q5, cmap=\"YlGnBu\", vmin=-1, vmax=1, xticklabels = True, yticklabels = False)\n",
    "\n",
    "plt.subplot(1,3,2)\n",
    "sns.heatmap(Q6, cmap=\"YlGnBu\", vmin=-1, vmax=1, xticklabels = True, yticklabels = False)\n",
    "\n",
    "plt.savefig(os.path.join(directory_img, \"corr_comparison_after.png\"))\n",
    "plt.close()\n",
    "\n",
    "pict_reduced_html = 'reduced_corr.html'\n",
    "Html_file = open(os.path.join(directory_img, pict_reduced_html),\"w\")\n",
    "Html_file.write(Q6.style.background_gradient(cmap='coolwarm').render())\n",
    "Html_file.close"
   ]
  },
  {
   "cell_type": "markdown",
   "metadata": {},
   "source": [
    "## RMK\n",
    "It seems like if the paid was the most important component of the Reach.\n",
    "In other words, the easy way to bost a post for both its reach and impressions is by paying since that's what makes the difference\n",
    "\n",
    "Now we will try to further analyse this concept with an example on the Reach and on the impressions"
   ]
  },
  {
   "cell_type": "code",
   "execution_count": 11,
   "metadata": {},
   "outputs": [],
   "source": [
    "import scipy.stats\n",
    "\n",
    "def mean_confidence_interval(data, confidence=0.95):\n",
    "    a = 1.0 * np.array(data)\n",
    "    n = len(a)\n",
    "    m, se = np.mean(a), scipy.stats.sem(a)\n",
    "    h = se * scipy.stats.t.ppf((1 + confidence) / 2., n-1)\n",
    "    return [m-h, m, m+h]\n",
    "\n",
    "def intersection_confidence_interval(int_1, int_2):\n",
    "    new_min = max(int_1[0],int_2[0])\n",
    "    new_max = min(int_1[2],int_2[2])\n",
    "    return [new_min, new_max]\n",
    "\n",
    "def test_same_mean(data_1, data_2, confidence=0.95):\n",
    "    int_1 = mean_confidence_interval(data_1, confidence=confidence)\n",
    "    int_2 = mean_confidence_interval(data_2, confidence=confidence)\n",
    "    new_int = intersection_confidence_interval(int_1, int_2)\n",
    "    return new_int[0] < new_int[1]"
   ]
  },
  {
   "cell_type": "code",
   "execution_count": 12,
   "metadata": {},
   "outputs": [
    {
     "data": {
      "text/plain": [
       "<function TextIOWrapper.close()>"
      ]
     },
     "execution_count": 12,
     "metadata": {},
     "output_type": "execute_result"
    },
    {
     "data": {
      "image/png": "[encoded data removed]",
      "text/plain": [
       "<Figure size 1728x864 with 2 Axes>"
      ]
     },
     "metadata": {},
     "output_type": "display_data"
    }
   ],
   "source": [
    "Q_time = Data_f.corr()\n",
    "\n",
    "sns.heatmap(Q_time, cmap=\"YlGnBu\", vmin=-1, vmax=1, xticklabels = True, yticklabels = False)\n",
    "\n",
    "plt.savefig(os.path.join(directory_img, \"corr_time_blue.png\"))\n",
    "\n",
    "pict_reduced_html = 'corr_time.html'\n",
    "Html_file= open(os.path.join(directory_img, pict_reduced_html),\"w\")\n",
    "Html_file.write(Q_time.style.background_gradient(cmap='coolwarm').render())\n",
    "Html_file.close"
   ]
  },
  {
   "cell_type": "markdown",
   "metadata": {},
   "source": [
    "In the next cells we are going to study some confidence intervals in order to find some significant difference between the data. Before doing that we need to check the gaussianity of our data and in case this hypothesis is not respected we need to understand why."
   ]
  },
  {
   "cell_type": "markdown",
   "metadata": {},
   "source": [
    "## KPI for the matrices\n",
    "This short session is about obtaining the KPI for the Renault matrix"
   ]
  },
  {
   "cell_type": "code",
   "execution_count": 13,
   "metadata": {},
   "outputs": [
    {
     "name": "stdout",
     "output_type": "stream",
     "text": [
      "Organic\n"
     ]
    },
    {
     "ename": "KeyError",
     "evalue": "'Post organic reach'",
     "output_type": "error",
     "traceback": [
      "\u001b[1;31m---------------------------------------------------------------------------\u001b[0m",
      "\u001b[1;31mKeyError\u001b[0m                                  Traceback (most recent call last)",
      "\u001b[1;32m~\\anaconda3\\envs\\MachineLearning\\lib\\site-packages\\pandas\\core\\indexes\\base.py\u001b[0m in \u001b[0;36mget_loc\u001b[1;34m(self, key, method, tolerance)\u001b[0m\n\u001b[0;32m   2896\u001b[0m             \u001b[1;32mtry\u001b[0m\u001b[1;33m:\u001b[0m\u001b[1;33m\u001b[0m\u001b[1;33m\u001b[0m\u001b[0m\n\u001b[1;32m-> 2897\u001b[1;33m                 \u001b[1;32mreturn\u001b[0m \u001b[0mself\u001b[0m\u001b[1;33m.\u001b[0m\u001b[0m_engine\u001b[0m\u001b[1;33m.\u001b[0m\u001b[0mget_loc\u001b[0m\u001b[1;33m(\u001b[0m\u001b[0mkey\u001b[0m\u001b[1;33m)\u001b[0m\u001b[1;33m\u001b[0m\u001b[1;33m\u001b[0m\u001b[0m\n\u001b[0m\u001b[0;32m   2898\u001b[0m             \u001b[1;32mexcept\u001b[0m \u001b[0mKeyError\u001b[0m\u001b[1;33m:\u001b[0m\u001b[1;33m\u001b[0m\u001b[1;33m\u001b[0m\u001b[0m\n",
      "\u001b[1;32mpandas/_libs/index.pyx\u001b[0m in \u001b[0;36mpandas._libs.index.IndexEngine.get_loc\u001b[1;34m()\u001b[0m\n",
      "\u001b[1;32mpandas/_libs/index.pyx\u001b[0m in \u001b[0;36mpandas._libs.index.IndexEngine.get_loc\u001b[1;34m()\u001b[0m\n",
      "\u001b[1;32mpandas/_libs/hashtable_class_helper.pxi\u001b[0m in \u001b[0;36mpandas._libs.hashtable.PyObjectHashTable.get_item\u001b[1;34m()\u001b[0m\n",
      "\u001b[1;32mpandas/_libs/hashtable_class_helper.pxi\u001b[0m in \u001b[0;36mpandas._libs.hashtable.PyObjectHashTable.get_item\u001b[1;34m()\u001b[0m\n",
      "\u001b[1;31mKeyError\u001b[0m: 'Post organic reach'",
      "\nDuring handling of the above exception, another exception occurred:\n",
      "\u001b[1;31mKeyError\u001b[0m                                  Traceback (most recent call last)",
      "\u001b[1;32m<ipython-input-13-971fb908c6c0>\u001b[0m in \u001b[0;36m<module>\u001b[1;34m\u001b[0m\n\u001b[0;32m     54\u001b[0m \u001b[0mconf\u001b[0m \u001b[1;33m=\u001b[0m \u001b[1;36m0.95\u001b[0m\u001b[1;33m\u001b[0m\u001b[1;33m\u001b[0m\u001b[0m\n\u001b[0;32m     55\u001b[0m \u001b[0mprint\u001b[0m\u001b[1;33m(\u001b[0m\u001b[1;34m'Organic'\u001b[0m\u001b[1;33m)\u001b[0m\u001b[1;33m\u001b[0m\u001b[1;33m\u001b[0m\u001b[0m\n\u001b[1;32m---> 56\u001b[1;33m \u001b[0mKPI_dict_FB\u001b[0m\u001b[1;33m(\u001b[0m\u001b[0mtequila_data\u001b[0m\u001b[1;33m[\u001b[0m\u001b[0mtequila_data\u001b[0m\u001b[1;33m[\u001b[0m\u001b[1;34m'is_paid'\u001b[0m\u001b[1;33m]\u001b[0m \u001b[1;33m==\u001b[0m \u001b[1;36m0\u001b[0m\u001b[1;33m]\u001b[0m\u001b[1;33m,\u001b[0m \u001b[0mwith_marge\u001b[0m \u001b[1;33m=\u001b[0m \u001b[1;32mFalse\u001b[0m\u001b[1;33m,\u001b[0m \u001b[0mconfidence\u001b[0m \u001b[1;33m=\u001b[0m \u001b[0mconf\u001b[0m\u001b[1;33m)\u001b[0m\u001b[1;33m\u001b[0m\u001b[1;33m\u001b[0m\u001b[0m\n\u001b[0m\u001b[0;32m     57\u001b[0m \u001b[0mprint\u001b[0m\u001b[1;33m(\u001b[0m\u001b[1;34m'Paid'\u001b[0m\u001b[1;33m)\u001b[0m\u001b[1;33m\u001b[0m\u001b[1;33m\u001b[0m\u001b[0m\n\u001b[0;32m     58\u001b[0m \u001b[0mKPI_dict_FB\u001b[0m\u001b[1;33m(\u001b[0m\u001b[0mtequila_data\u001b[0m\u001b[1;33m[\u001b[0m\u001b[0mtequila_data\u001b[0m\u001b[1;33m[\u001b[0m\u001b[1;34m'is_paid'\u001b[0m\u001b[1;33m]\u001b[0m \u001b[1;33m==\u001b[0m \u001b[1;36m1\u001b[0m\u001b[1;33m]\u001b[0m\u001b[1;33m,\u001b[0m \u001b[0mwith_marge\u001b[0m \u001b[1;33m=\u001b[0m \u001b[1;32mFalse\u001b[0m\u001b[1;33m,\u001b[0m \u001b[0mconfidence\u001b[0m \u001b[1;33m=\u001b[0m \u001b[0mconf\u001b[0m\u001b[1;33m)\u001b[0m\u001b[1;33m\u001b[0m\u001b[1;33m\u001b[0m\u001b[0m\n",
      "\u001b[1;32m<ipython-input-13-971fb908c6c0>\u001b[0m in \u001b[0;36mKPI_dict_FB\u001b[1;34m(data, with_marge, confidence)\u001b[0m\n\u001b[0;32m     16\u001b[0m         'Average total reach / post': mean_confidence_interval(data['Post Total Reach'],\n\u001b[0;32m     17\u001b[0m                                                         confidence = confidence)[index_IC],\n\u001b[1;32m---> 18\u001b[1;33m         'Average organic reach / post': mean_confidence_interval(data['Post organic reach'],\n\u001b[0m\u001b[0;32m     19\u001b[0m                                                         confidence = confidence)[index_IC],\n\u001b[0;32m     20\u001b[0m         'Average video total reach / post': mean_confidence_interval(data[data['Type_Video'] == 1]['Post Total Reach'],\n",
      "\u001b[1;32m~\\anaconda3\\envs\\MachineLearning\\lib\\site-packages\\pandas\\core\\frame.py\u001b[0m in \u001b[0;36m__getitem__\u001b[1;34m(self, key)\u001b[0m\n\u001b[0;32m   2993\u001b[0m             \u001b[1;32mif\u001b[0m \u001b[0mself\u001b[0m\u001b[1;33m.\u001b[0m\u001b[0mcolumns\u001b[0m\u001b[1;33m.\u001b[0m\u001b[0mnlevels\u001b[0m \u001b[1;33m>\u001b[0m \u001b[1;36m1\u001b[0m\u001b[1;33m:\u001b[0m\u001b[1;33m\u001b[0m\u001b[1;33m\u001b[0m\u001b[0m\n\u001b[0;32m   2994\u001b[0m                 \u001b[1;32mreturn\u001b[0m \u001b[0mself\u001b[0m\u001b[1;33m.\u001b[0m\u001b[0m_getitem_multilevel\u001b[0m\u001b[1;33m(\u001b[0m\u001b[0mkey\u001b[0m\u001b[1;33m)\u001b[0m\u001b[1;33m\u001b[0m\u001b[1;33m\u001b[0m\u001b[0m\n\u001b[1;32m-> 2995\u001b[1;33m             \u001b[0mindexer\u001b[0m \u001b[1;33m=\u001b[0m \u001b[0mself\u001b[0m\u001b[1;33m.\u001b[0m\u001b[0mcolumns\u001b[0m\u001b[1;33m.\u001b[0m\u001b[0mget_loc\u001b[0m\u001b[1;33m(\u001b[0m\u001b[0mkey\u001b[0m\u001b[1;33m)\u001b[0m\u001b[1;33m\u001b[0m\u001b[1;33m\u001b[0m\u001b[0m\n\u001b[0m\u001b[0;32m   2996\u001b[0m             \u001b[1;32mif\u001b[0m \u001b[0mis_integer\u001b[0m\u001b[1;33m(\u001b[0m\u001b[0mindexer\u001b[0m\u001b[1;33m)\u001b[0m\u001b[1;33m:\u001b[0m\u001b[1;33m\u001b[0m\u001b[1;33m\u001b[0m\u001b[0m\n\u001b[0;32m   2997\u001b[0m                 \u001b[0mindexer\u001b[0m \u001b[1;33m=\u001b[0m \u001b[1;33m[\u001b[0m\u001b[0mindexer\u001b[0m\u001b[1;33m]\u001b[0m\u001b[1;33m\u001b[0m\u001b[1;33m\u001b[0m\u001b[0m\n",
      "\u001b[1;32m~\\anaconda3\\envs\\MachineLearning\\lib\\site-packages\\pandas\\core\\indexes\\base.py\u001b[0m in \u001b[0;36mget_loc\u001b[1;34m(self, key, method, tolerance)\u001b[0m\n\u001b[0;32m   2897\u001b[0m                 \u001b[1;32mreturn\u001b[0m \u001b[0mself\u001b[0m\u001b[1;33m.\u001b[0m\u001b[0m_engine\u001b[0m\u001b[1;33m.\u001b[0m\u001b[0mget_loc\u001b[0m\u001b[1;33m(\u001b[0m\u001b[0mkey\u001b[0m\u001b[1;33m)\u001b[0m\u001b[1;33m\u001b[0m\u001b[1;33m\u001b[0m\u001b[0m\n\u001b[0;32m   2898\u001b[0m             \u001b[1;32mexcept\u001b[0m \u001b[0mKeyError\u001b[0m\u001b[1;33m:\u001b[0m\u001b[1;33m\u001b[0m\u001b[1;33m\u001b[0m\u001b[0m\n\u001b[1;32m-> 2899\u001b[1;33m                 \u001b[1;32mreturn\u001b[0m \u001b[0mself\u001b[0m\u001b[1;33m.\u001b[0m\u001b[0m_engine\u001b[0m\u001b[1;33m.\u001b[0m\u001b[0mget_loc\u001b[0m\u001b[1;33m(\u001b[0m\u001b[0mself\u001b[0m\u001b[1;33m.\u001b[0m\u001b[0m_maybe_cast_indexer\u001b[0m\u001b[1;33m(\u001b[0m\u001b[0mkey\u001b[0m\u001b[1;33m)\u001b[0m\u001b[1;33m)\u001b[0m\u001b[1;33m\u001b[0m\u001b[1;33m\u001b[0m\u001b[0m\n\u001b[0m\u001b[0;32m   2900\u001b[0m         \u001b[0mindexer\u001b[0m \u001b[1;33m=\u001b[0m \u001b[0mself\u001b[0m\u001b[1;33m.\u001b[0m\u001b[0mget_indexer\u001b[0m\u001b[1;33m(\u001b[0m\u001b[1;33m[\u001b[0m\u001b[0mkey\u001b[0m\u001b[1;33m]\u001b[0m\u001b[1;33m,\u001b[0m \u001b[0mmethod\u001b[0m\u001b[1;33m=\u001b[0m\u001b[0mmethod\u001b[0m\u001b[1;33m,\u001b[0m \u001b[0mtolerance\u001b[0m\u001b[1;33m=\u001b[0m\u001b[0mtolerance\u001b[0m\u001b[1;33m)\u001b[0m\u001b[1;33m\u001b[0m\u001b[1;33m\u001b[0m\u001b[0m\n\u001b[0;32m   2901\u001b[0m         \u001b[1;32mif\u001b[0m \u001b[0mindexer\u001b[0m\u001b[1;33m.\u001b[0m\u001b[0mndim\u001b[0m \u001b[1;33m>\u001b[0m \u001b[1;36m1\u001b[0m \u001b[1;32mor\u001b[0m \u001b[0mindexer\u001b[0m\u001b[1;33m.\u001b[0m\u001b[0msize\u001b[0m \u001b[1;33m>\u001b[0m \u001b[1;36m1\u001b[0m\u001b[1;33m:\u001b[0m\u001b[1;33m\u001b[0m\u001b[1;33m\u001b[0m\u001b[0m\n",
      "\u001b[1;32mpandas/_libs/index.pyx\u001b[0m in \u001b[0;36mpandas._libs.index.IndexEngine.get_loc\u001b[1;34m()\u001b[0m\n",
      "\u001b[1;32mpandas/_libs/index.pyx\u001b[0m in \u001b[0;36mpandas._libs.index.IndexEngine.get_loc\u001b[1;34m()\u001b[0m\n",
      "\u001b[1;32mpandas/_libs/hashtable_class_helper.pxi\u001b[0m in \u001b[0;36mpandas._libs.hashtable.PyObjectHashTable.get_item\u001b[1;34m()\u001b[0m\n",
      "\u001b[1;32mpandas/_libs/hashtable_class_helper.pxi\u001b[0m in \u001b[0;36mpandas._libs.hashtable.PyObjectHashTable.get_item\u001b[1;34m()\u001b[0m\n",
      "\u001b[1;31mKeyError\u001b[0m: 'Post organic reach'"
     ]
    }
   ],
   "source": [
    "# function that extract from a dataset only the elements between two dates\n",
    "def campaign_selection(dataset, first_day, last_day):\n",
    "    first_timestamp = datetime.timestamp(datetime.strptime(first_day, '%m/%d/%Y %I:%M:%S %p'))\n",
    "    last_timestamp = datetime.timestamp(datetime.strptime(last_day, '%m/%d/%Y %I:%M:%S %p'))\n",
    "    res = dataset[(dataset['timestamp'] >= first_timestamp) & (dataset['timestamp'] <= last_timestamp)].copy()\n",
    "    return res\n",
    "\n",
    "def KPI_dict_FB(data, with_marge, confidence = 0.95):\n",
    "    index_IC = 1\n",
    "    if with_marge:\n",
    "        index_IC = 0\n",
    "    dict_FB = {\n",
    "       'Total post': data.shape[0],\n",
    "        'Total video': sum(data['Type_Video'] == 1),\n",
    "        'Video/post': sum(data['Type_Video'] == 1) / data.shape[0],\n",
    "        'Average total reach / post': mean_confidence_interval(data['Post Total Reach'],\n",
    "                                                        confidence = confidence)[index_IC],\n",
    "        'Average organic reach / post': mean_confidence_interval(data['Post organic reach'],\n",
    "                                                        confidence = confidence)[index_IC],\n",
    "        'Average video total reach / post': mean_confidence_interval(data[data['Type_Video'] == 1]['Post Total Reach'],\n",
    "                                                        confidence = confidence)[index_IC],\n",
    "        'Average video organic reach / post': mean_confidence_interval(data[data['Type_Video'] == 1]['Post organic reach'],\n",
    "                                                        confidence = confidence)[index_IC],\n",
    "        'Organic Video Views / post': mean_confidence_interval(data[data['Type_Video'] == 1]['Organic Video Views'],\n",
    "                                                               confidence = confidence)[index_IC],\n",
    "        'Paid Video Views / post': mean_confidence_interval(data[data['Type_Video'] == 1]['Paid Video Views'],\n",
    "                                                               confidence = confidence)[index_IC],\n",
    "        'Videos Average views (>=30s)': sum((data['Type_Video'] == 1) & (data['Average time video viewed'] >= 30))/\n",
    "            sum(data['Type_Video'] == 1),\n",
    "        'Average share / post': mean_confidence_interval(data['Talking About This (Post) by action type - share'],\n",
    "                                                        confidence = confidence)[index_IC],\n",
    "        'Average like / post': mean_confidence_interval(data['Talking About This (Post) by action type - like'],\n",
    "                                                       confidence = confidence)[index_IC],\n",
    "        'Average comment / post': mean_confidence_interval(data['Talking About This (Post) by action type - comment'],\n",
    "                                                          confidence = confidence)[index_IC],\n",
    "        'Videos Average share / post':\n",
    "         mean_confidence_interval(data[data['Type_Video'] == 1]['Talking About This (Post) by action type - share'],\n",
    "                                 confidence = confidence)[index_IC],\n",
    "        'Videos Average like / post':\n",
    "        mean_confidence_interval(data[data['Type_Video'] == 1]['Talking About This (Post) by action type - like'],\n",
    "                                confidence = confidence)[index_IC],\n",
    "        'Videos Average comment / post':\n",
    "        mean_confidence_interval(data[data['Type_Video'] == 1]['Talking About This (Post) by action type - comment'],\n",
    "                                confidence = confidence)[index_IC],\n",
    "        'Videos Average Completion (percentage)':mean_confidence_interval(\n",
    "        data[data['Type_Video'] == 1]['Average time video viewed']/data[data['Type_Video'] == 1]['Video length'],\n",
    "        confidence = confidence)[index_IC]*100\n",
    "    }\n",
    "    for k in dict_FB.keys():\n",
    "        print(k, dict_FB[k])\n",
    "    return dict_FB\n",
    "\n",
    "tequila_data = campaign_selection(Data_f, '05/01/2019 01:00:00 AM', '12/31/2020 11:00:00 PM')\n",
    "conf = 0.95\n",
    "print('Organic')\n",
    "KPI_dict_FB(tequila_data[tequila_data['is_paid'] == 0], with_marge = False, confidence = conf)\n",
    "print('Paid')\n",
    "KPI_dict_FB(tequila_data[tequila_data['is_paid'] == 1], with_marge = False, confidence = conf)\n",
    "print('Done')\n"
   ]
  },
  {
   "cell_type": "code",
   "execution_count": 14,
   "metadata": {},
   "outputs": [
    {
     "name": "stdout",
     "output_type": "stream",
     "text": [
      "test1 W,p 0.18871217966079712 0.0\n",
      "test2 W,p 0.07454609870910645 0.0\n"
     ]
    },
    {
     "name": "stderr",
     "output_type": "stream",
     "text": [
      "C:\\Users\\lfiorentini\\anaconda3\\envs\\MachineLearning\\lib\\site-packages\\scipy\\stats\\morestats.py:1660: UserWarning: p-value may not be accurate for N > 5000.\n",
      "  warnings.warn(\"p-value may not be accurate for N > 5000.\")\n",
      "C:\\Users\\lfiorentini\\anaconda3\\envs\\MachineLearning\\lib\\site-packages\\numpy\\core\\_methods.py:195: RuntimeWarning: overflow encountered in multiply\n",
      "  x = um.multiply(x, x, out=x)\n",
      "C:\\Users\\lfiorentini\\anaconda3\\envs\\MachineLearning\\lib\\site-packages\\scipy\\optimize\\optimize.py:1975: RuntimeWarning: invalid value encountered in double_scalars\n",
      "  tmp2 = (x - v) * (fx - fw)\n"
     ]
    },
    {
     "data": {
      "text/plain": [
       "{'Average time video viewed': [1.3213049939668157e-36, 3.2229864679470793e-44],\n",
       " 'Engaged Users': [0.0, 1.6397472701277162e-20],\n",
       " 'Negative Feedback': [0.0, 8.314589523771487e-35],\n",
       " 'Negative Feedback by Type - report_spam_clicks': [0.0, 1.0],\n",
       " 'Negative Feedback by Type - unlike_page_clicks': [0.0, 1.0],\n",
       " 'Negative Feedback from Users by Type - report_spam_clicks': [0.0, 1.0],\n",
       " 'Negative Feedback from Users by Type - unlike_page_clicks': [0.0, 1.0],\n",
       " 'Organic views to 95%': [0.0, 1.9287511523531538e-36],\n",
       " 'Paid views to 95%': [0.0, 1.0],\n",
       " 'People who have liked your Page and engaged with your post': [0.0,\n",
       "  1.1062394286742196e-15],\n",
       " 'Post Audience Targeting Unique Consumptions by Type - link clicks': [0.0,\n",
       "  4.189336462449502e-38],\n",
       " 'Post Audience Targeting Unique Consumptions by Type - photo view': [0.0,\n",
       "  1.401298464324817e-45],\n",
       " 'Post Audience Targeting Unique Consumptions by Type - video play': [0.0,\n",
       "  2.4308555394629522e-37],\n",
       " 'Post Impressions by people who have liked your Page': [0.0,\n",
       "  2.6051725221520883e-09],\n",
       " 'Post Paid Reach': [0.0, 1.0],\n",
       " 'Post Total Reach': [0.0, 6.292208507702179e-13],\n",
       " 'Post reach by people who like your Page': [0.0, 2.730041304133124e-09],\n",
       " 'Talking About This (Post) by action type - comment': [0.0,\n",
       "  1.5877020841844272e-24],\n",
       " 'Talking About This (Post) by action type - like': [0.0,\n",
       "  5.012697984942345e-26],\n",
       " 'Talking About This (Post) by action type - share': [0.0,\n",
       "  4.4807732436933966e-33],\n",
       " 'Video length': [0.0, 2.0178697886277366e-43],\n",
       " 'is_paid': [0.0, 1.0]}"
      ]
     },
     "execution_count": 14,
     "metadata": {},
     "output_type": "execute_result"
    }
   ],
   "source": [
    "from scipy.stats import shapiro\n",
    "from scipy.stats import boxcox\n",
    "\n",
    "W1,p1 = shapiro(Data_f)\n",
    "Data_no_bool = Data_f.drop(['Type_Video', 'moment_day_Night', 'timestamp', 'working_day'], axis = 1)\n",
    "W2,p2 = shapiro(Data_no_bool)\n",
    "print(\"test1 W,p\", W1, p1)\n",
    "print(\"test2 W,p\", W2, p2)\n",
    "\n",
    "gauss_dict = dict.fromkeys(Data_no_bool.columns)\n",
    "for col in Data_no_bool.columns:\n",
    "    _, p_orig = shapiro(Data_f[col])\n",
    "    col_min = min(Data_f[col])\n",
    "    if col_min == 0.0:\n",
    "        col_min = 1e-4\n",
    "    # boxcox need positive data so we shift everything iff the column has negative value\n",
    "    trasnformed_data, _ = boxcox(Data_f[col] + col_min)\n",
    "    _, p_box = shapiro(trasnformed_data)\n",
    "    gauss_dict[col] = [p_orig, p_box]\n",
    "gauss_dict"
   ]
  },
  {
   "cell_type": "markdown",
   "metadata": {},
   "source": [
    "## The overall dataset is not gaussian as we could have expected since the ddata differs a lot in case we consider paid/organic, video/photo and these kind of differences. Now we are going to study the gaussianity of the subsets focusing only on the reach and on the impression that are our main goals of observation:\n",
    "\n",
    "It can be useful to perform th eso called \"permutation test\" in order to deal with the lack of gaussianity"
   ]
  },
  {
   "cell_type": "code",
   "execution_count": 15,
   "metadata": {},
   "outputs": [
    {
     "name": "stdout",
     "output_type": "stream",
     "text": [
      "Data_no_bool_paid_video W,p (0.43382686376571655, 1.5632069274543366e-14)\n",
      "Data_no_bool_org_video W,p (0.10100889205932617, 0.0)\n",
      "Data_no_bool_paid_photo W,p (0.43356454372406006, 3.3085914452612997e-08)\n",
      "Data_no_bool_org_photo W,p (0.2540072202682495, 0.0)\n"
     ]
    }
   ],
   "source": [
    "Data_no_bool_paid_video = Data_no_bool[(Data_no_bool['Post Paid Reach'] > 0) & (Data_no_bool['Average time video viewed'] > 0)]\n",
    "[['Post Total Reach', 'Post organic reach', 'Post Paid Reach',\n",
    "  'Post Total Impressions', 'Post Organic Impressions', 'Post Paid Impressions', 'Average time video viewed', 'Video length']]\n",
    "\n",
    "Data_no_bool_org_video = Data_no_bool[(Data_no_bool['Post Paid Reach'] == 0) & (Data_no_bool['Average time video viewed'] > 0)]\n",
    "[['Post Total Reach', 'Post organic reach', 'Post Paid Reach',\n",
    "  'Post Total Impressions', 'Post Organic Impressions', 'Post Paid Impressions', 'Average time video viewed', 'Video length']]\n",
    "\n",
    "Data_no_bool_paid_photo = Data_no_bool[(Data_no_bool['Post Paid Reach'] > 0) & (Data_no_bool['Average time video viewed'] == 0)]\n",
    "[['Post Total Reach', 'Post organic reach', 'Post Paid Reach',\n",
    "  'Post Total Impressions', 'Post Organic Impressions', 'Post Paid Impressions']]\n",
    "\n",
    "Data_no_bool_org_photo = Data_no_bool[(Data_no_bool['Post Paid Reach'] == 0) & (Data_no_bool['Average time video viewed'] == 0)]\n",
    "[['Post Total Reach', 'Post organic reach', 'Post Paid Reach',\n",
    "  'Post Total Impressions', 'Post Organic Impressions', 'Post Paid Impressions']]\n",
    "\n",
    "print('Data_no_bool_paid_video W,p', shapiro(Data_no_bool_paid_video))\n",
    "print('Data_no_bool_org_video W,p', shapiro(Data_no_bool_org_video))\n",
    "print('Data_no_bool_paid_photo W,p', shapiro(Data_no_bool_paid_photo))\n",
    "print('Data_no_bool_org_photo W,p', shapiro(Data_no_bool_org_photo))"
   ]
  },
  {
   "cell_type": "markdown",
   "metadata": {},
   "source": [
    "Even focusing only on some variables and constraining our attention to homogeneous groups of variables we still do not have gaussianity. As a result we can't use directly the CI of gaussian data =>."
   ]
  },
  {
   "cell_type": "code",
   "execution_count": 16,
   "metadata": {},
   "outputs": [
    {
     "name": "stdout",
     "output_type": "stream",
     "text": [
      "Total Reach var by night 618963.7201095758\n",
      "Total Reach var by morning 504346.12936869514\n",
      "Total Reach IC by night [116578.2124491443, 153258.12793176973, 189938.0434143952]\n",
      "Total Reach IC by morning [90424.56251747526, 112585.19953051643, 134745.8365435576]\n",
      "Organic Reach IC by night [106153.17673098278, 153258.12793176973, 200363.07913255668]\n",
      "Paid Reach IC by night [nan, nan, nan]\n",
      "Organic Reach IC by morning [82429.2460081013, 110969.45047169812, 139509.65493529494]\n",
      "Paid Reach IC by morning [133295.52704615908, 455124.0, 776952.4729538409]\n"
     ]
    },
    {
     "name": "stderr",
     "output_type": "stream",
     "text": [
      "C:\\Users\\lfiorentini\\anaconda3\\envs\\MachineLearning\\lib\\site-packages\\numpy\\core\\fromnumeric.py:3257: RuntimeWarning: Mean of empty slice.\n",
      "  out=out, **kwargs)\n",
      "C:\\Users\\lfiorentini\\anaconda3\\envs\\MachineLearning\\lib\\site-packages\\numpy\\core\\_methods.py:161: RuntimeWarning: invalid value encountered in double_scalars\n",
      "  ret = ret.dtype.type(ret / rcount)\n",
      "C:\\Users\\lfiorentini\\anaconda3\\envs\\MachineLearning\\lib\\site-packages\\numpy\\core\\_methods.py:217: RuntimeWarning: Degrees of freedom <= 0 for slice\n",
      "  keepdims=keepdims)\n",
      "C:\\Users\\lfiorentini\\anaconda3\\envs\\MachineLearning\\lib\\site-packages\\numpy\\core\\_methods.py:186: RuntimeWarning: invalid value encountered in true_divide\n",
      "  arrmean, rcount, out=arrmean, casting='unsafe', subok=False)\n",
      "C:\\Users\\lfiorentini\\anaconda3\\envs\\MachineLearning\\lib\\site-packages\\numpy\\core\\_methods.py:209: RuntimeWarning: invalid value encountered in double_scalars\n",
      "  ret = ret.dtype.type(ret / rcount)\n"
     ]
    }
   ],
   "source": [
    "print(\"Total Reach var by night\", Data_f[(Data_f['moment_day_Night'] == 1)]['Post Total Reach'].std())\n",
    "print(\"Total Reach var by morning\", Data_f[(Data_f['moment_day_Night'] == 0)]['Post Total Reach'].std())\n",
    "\n",
    "print(\"Total Reach IC by night\", mean_confidence_interval(\n",
    "    Data_f[(Data_f['moment_day_Night'] == 1)]['Post Total Reach'], 0.8))\n",
    "print(\"Total Reach IC by morning\", mean_confidence_interval(\n",
    "    Data_f[(Data_f['moment_day_Night'] == 0)]['Post Total Reach'], 0.8))\n",
    "print(\"Organic Reach IC by night\", mean_confidence_interval(\n",
    "    Data_f[(Data_f['moment_day_Night'] == 1) & (Data_f['Post Paid Reach'] == 0.0)]['Post Total Reach'], 0.9))\n",
    "print(\"Paid Reach IC by night\", mean_confidence_interval(\n",
    "    Data_f[(Data_f['moment_day_Night'] == 1) & (Data_f['Post Paid Reach'] > 0.0)]['Post Total Reach'], 0.9))\n",
    "print(\"Organic Reach IC by morning\", mean_confidence_interval(\n",
    "    Data_f[(Data_f['moment_day_Night'] == 0) & (Data_f['Post Paid Reach'] == 0.0)]['Post Total Reach'], 0.9))\n",
    "print(\"Paid Reach IC by morning\", mean_confidence_interval(\n",
    "    Data_f[(Data_f['moment_day_Night'] == 0) & (Data_f['Post Paid Reach'] > 0.0)]['Post Total Reach'], 0.9))\n"
   ]
  },
  {
   "cell_type": "markdown",
   "metadata": {},
   "source": [
    "* Unless we use a very permissive test (55%) we can't find any difference between night and morning on the total reach\n",
    "* For the organic part we can see that posting by night is clearly better\n",
    "* For the paid part there is not such a big difference"
   ]
  },
  {
   "cell_type": "code",
   "execution_count": 17,
   "metadata": {},
   "outputs": [
    {
     "name": "stdout",
     "output_type": "stream",
     "text": [
      "Paid_data['Post Total Reach'].mean()  455124.0\n",
      "Organic_data['Post Total Reach'].mean()  126028.97190584661\n"
     ]
    },
    {
     "ename": "KeyError",
     "evalue": "'Post Total Impressions'",
     "output_type": "error",
     "traceback": [
      "\u001b[1;31m---------------------------------------------------------------------------\u001b[0m",
      "\u001b[1;31mKeyError\u001b[0m                                  Traceback (most recent call last)",
      "\u001b[1;32m~\\anaconda3\\envs\\MachineLearning\\lib\\site-packages\\pandas\\core\\indexes\\base.py\u001b[0m in \u001b[0;36mget_loc\u001b[1;34m(self, key, method, tolerance)\u001b[0m\n\u001b[0;32m   2896\u001b[0m             \u001b[1;32mtry\u001b[0m\u001b[1;33m:\u001b[0m\u001b[1;33m\u001b[0m\u001b[1;33m\u001b[0m\u001b[0m\n\u001b[1;32m-> 2897\u001b[1;33m                 \u001b[1;32mreturn\u001b[0m \u001b[0mself\u001b[0m\u001b[1;33m.\u001b[0m\u001b[0m_engine\u001b[0m\u001b[1;33m.\u001b[0m\u001b[0mget_loc\u001b[0m\u001b[1;33m(\u001b[0m\u001b[0mkey\u001b[0m\u001b[1;33m)\u001b[0m\u001b[1;33m\u001b[0m\u001b[1;33m\u001b[0m\u001b[0m\n\u001b[0m\u001b[0;32m   2898\u001b[0m             \u001b[1;32mexcept\u001b[0m \u001b[0mKeyError\u001b[0m\u001b[1;33m:\u001b[0m\u001b[1;33m\u001b[0m\u001b[1;33m\u001b[0m\u001b[0m\n",
      "\u001b[1;32mpandas/_libs/index.pyx\u001b[0m in \u001b[0;36mpandas._libs.index.IndexEngine.get_loc\u001b[1;34m()\u001b[0m\n",
      "\u001b[1;32mpandas/_libs/index.pyx\u001b[0m in \u001b[0;36mpandas._libs.index.IndexEngine.get_loc\u001b[1;34m()\u001b[0m\n",
      "\u001b[1;32mpandas/_libs/hashtable_class_helper.pxi\u001b[0m in \u001b[0;36mpandas._libs.hashtable.PyObjectHashTable.get_item\u001b[1;34m()\u001b[0m\n",
      "\u001b[1;32mpandas/_libs/hashtable_class_helper.pxi\u001b[0m in \u001b[0;36mpandas._libs.hashtable.PyObjectHashTable.get_item\u001b[1;34m()\u001b[0m\n",
      "\u001b[1;31mKeyError\u001b[0m: 'Post Total Impressions'",
      "\nDuring handling of the above exception, another exception occurred:\n",
      "\u001b[1;31mKeyError\u001b[0m                                  Traceback (most recent call last)",
      "\u001b[1;32m<ipython-input-17-81396099ae01>\u001b[0m in \u001b[0;36m<module>\u001b[1;34m\u001b[0m\n\u001b[0;32m      3\u001b[0m \u001b[0mprint\u001b[0m\u001b[1;33m(\u001b[0m\u001b[1;34m\"Paid_data['Post Total Reach'].mean() \"\u001b[0m\u001b[1;33m,\u001b[0m \u001b[0mPaid_data\u001b[0m\u001b[1;33m[\u001b[0m\u001b[1;34m'Post Total Reach'\u001b[0m\u001b[1;33m]\u001b[0m\u001b[1;33m.\u001b[0m\u001b[0mmean\u001b[0m\u001b[1;33m(\u001b[0m\u001b[1;33m)\u001b[0m\u001b[1;33m)\u001b[0m\u001b[1;33m\u001b[0m\u001b[1;33m\u001b[0m\u001b[0m\n\u001b[0;32m      4\u001b[0m \u001b[0mprint\u001b[0m\u001b[1;33m(\u001b[0m\u001b[1;34m\"Organic_data['Post Total Reach'].mean() \"\u001b[0m\u001b[1;33m,\u001b[0m \u001b[0mOrganic_data\u001b[0m\u001b[1;33m[\u001b[0m\u001b[1;34m'Post Total Reach'\u001b[0m\u001b[1;33m]\u001b[0m\u001b[1;33m.\u001b[0m\u001b[0mmean\u001b[0m\u001b[1;33m(\u001b[0m\u001b[1;33m)\u001b[0m\u001b[1;33m)\u001b[0m\u001b[1;33m\u001b[0m\u001b[1;33m\u001b[0m\u001b[0m\n\u001b[1;32m----> 5\u001b[1;33m \u001b[0mprint\u001b[0m\u001b[1;33m(\u001b[0m\u001b[1;34m\"Paid_data['Post Total Impressions'].mean() \"\u001b[0m\u001b[1;33m,\u001b[0m \u001b[0mPaid_data\u001b[0m\u001b[1;33m[\u001b[0m\u001b[1;34m'Post Total Impressions'\u001b[0m\u001b[1;33m]\u001b[0m\u001b[1;33m.\u001b[0m\u001b[0mmean\u001b[0m\u001b[1;33m(\u001b[0m\u001b[1;33m)\u001b[0m\u001b[1;33m)\u001b[0m\u001b[1;33m\u001b[0m\u001b[1;33m\u001b[0m\u001b[0m\n\u001b[0m\u001b[0;32m      6\u001b[0m \u001b[0mprint\u001b[0m\u001b[1;33m(\u001b[0m\u001b[1;34m\"Organic_data['Post Total Impressions'].mean() \"\u001b[0m\u001b[1;33m,\u001b[0m \u001b[0mOrganic_data\u001b[0m\u001b[1;33m[\u001b[0m\u001b[1;34m'Post Total Impressions'\u001b[0m\u001b[1;33m]\u001b[0m\u001b[1;33m.\u001b[0m\u001b[0mmean\u001b[0m\u001b[1;33m(\u001b[0m\u001b[1;33m)\u001b[0m\u001b[1;33m)\u001b[0m\u001b[1;33m\u001b[0m\u001b[1;33m\u001b[0m\u001b[0m\n\u001b[0;32m      7\u001b[0m \u001b[1;33m\u001b[0m\u001b[0m\n",
      "\u001b[1;32m~\\anaconda3\\envs\\MachineLearning\\lib\\site-packages\\pandas\\core\\frame.py\u001b[0m in \u001b[0;36m__getitem__\u001b[1;34m(self, key)\u001b[0m\n\u001b[0;32m   2993\u001b[0m             \u001b[1;32mif\u001b[0m \u001b[0mself\u001b[0m\u001b[1;33m.\u001b[0m\u001b[0mcolumns\u001b[0m\u001b[1;33m.\u001b[0m\u001b[0mnlevels\u001b[0m \u001b[1;33m>\u001b[0m \u001b[1;36m1\u001b[0m\u001b[1;33m:\u001b[0m\u001b[1;33m\u001b[0m\u001b[1;33m\u001b[0m\u001b[0m\n\u001b[0;32m   2994\u001b[0m                 \u001b[1;32mreturn\u001b[0m \u001b[0mself\u001b[0m\u001b[1;33m.\u001b[0m\u001b[0m_getitem_multilevel\u001b[0m\u001b[1;33m(\u001b[0m\u001b[0mkey\u001b[0m\u001b[1;33m)\u001b[0m\u001b[1;33m\u001b[0m\u001b[1;33m\u001b[0m\u001b[0m\n\u001b[1;32m-> 2995\u001b[1;33m             \u001b[0mindexer\u001b[0m \u001b[1;33m=\u001b[0m \u001b[0mself\u001b[0m\u001b[1;33m.\u001b[0m\u001b[0mcolumns\u001b[0m\u001b[1;33m.\u001b[0m\u001b[0mget_loc\u001b[0m\u001b[1;33m(\u001b[0m\u001b[0mkey\u001b[0m\u001b[1;33m)\u001b[0m\u001b[1;33m\u001b[0m\u001b[1;33m\u001b[0m\u001b[0m\n\u001b[0m\u001b[0;32m   2996\u001b[0m             \u001b[1;32mif\u001b[0m \u001b[0mis_integer\u001b[0m\u001b[1;33m(\u001b[0m\u001b[0mindexer\u001b[0m\u001b[1;33m)\u001b[0m\u001b[1;33m:\u001b[0m\u001b[1;33m\u001b[0m\u001b[1;33m\u001b[0m\u001b[0m\n\u001b[0;32m   2997\u001b[0m                 \u001b[0mindexer\u001b[0m \u001b[1;33m=\u001b[0m \u001b[1;33m[\u001b[0m\u001b[0mindexer\u001b[0m\u001b[1;33m]\u001b[0m\u001b[1;33m\u001b[0m\u001b[1;33m\u001b[0m\u001b[0m\n",
      "\u001b[1;32m~\\anaconda3\\envs\\MachineLearning\\lib\\site-packages\\pandas\\core\\indexes\\base.py\u001b[0m in \u001b[0;36mget_loc\u001b[1;34m(self, key, method, tolerance)\u001b[0m\n\u001b[0;32m   2897\u001b[0m                 \u001b[1;32mreturn\u001b[0m \u001b[0mself\u001b[0m\u001b[1;33m.\u001b[0m\u001b[0m_engine\u001b[0m\u001b[1;33m.\u001b[0m\u001b[0mget_loc\u001b[0m\u001b[1;33m(\u001b[0m\u001b[0mkey\u001b[0m\u001b[1;33m)\u001b[0m\u001b[1;33m\u001b[0m\u001b[1;33m\u001b[0m\u001b[0m\n\u001b[0;32m   2898\u001b[0m             \u001b[1;32mexcept\u001b[0m \u001b[0mKeyError\u001b[0m\u001b[1;33m:\u001b[0m\u001b[1;33m\u001b[0m\u001b[1;33m\u001b[0m\u001b[0m\n\u001b[1;32m-> 2899\u001b[1;33m                 \u001b[1;32mreturn\u001b[0m \u001b[0mself\u001b[0m\u001b[1;33m.\u001b[0m\u001b[0m_engine\u001b[0m\u001b[1;33m.\u001b[0m\u001b[0mget_loc\u001b[0m\u001b[1;33m(\u001b[0m\u001b[0mself\u001b[0m\u001b[1;33m.\u001b[0m\u001b[0m_maybe_cast_indexer\u001b[0m\u001b[1;33m(\u001b[0m\u001b[0mkey\u001b[0m\u001b[1;33m)\u001b[0m\u001b[1;33m)\u001b[0m\u001b[1;33m\u001b[0m\u001b[1;33m\u001b[0m\u001b[0m\n\u001b[0m\u001b[0;32m   2900\u001b[0m         \u001b[0mindexer\u001b[0m \u001b[1;33m=\u001b[0m \u001b[0mself\u001b[0m\u001b[1;33m.\u001b[0m\u001b[0mget_indexer\u001b[0m\u001b[1;33m(\u001b[0m\u001b[1;33m[\u001b[0m\u001b[0mkey\u001b[0m\u001b[1;33m]\u001b[0m\u001b[1;33m,\u001b[0m \u001b[0mmethod\u001b[0m\u001b[1;33m=\u001b[0m\u001b[0mmethod\u001b[0m\u001b[1;33m,\u001b[0m \u001b[0mtolerance\u001b[0m\u001b[1;33m=\u001b[0m\u001b[0mtolerance\u001b[0m\u001b[1;33m)\u001b[0m\u001b[1;33m\u001b[0m\u001b[1;33m\u001b[0m\u001b[0m\n\u001b[0;32m   2901\u001b[0m         \u001b[1;32mif\u001b[0m \u001b[0mindexer\u001b[0m\u001b[1;33m.\u001b[0m\u001b[0mndim\u001b[0m \u001b[1;33m>\u001b[0m \u001b[1;36m1\u001b[0m \u001b[1;32mor\u001b[0m \u001b[0mindexer\u001b[0m\u001b[1;33m.\u001b[0m\u001b[0msize\u001b[0m \u001b[1;33m>\u001b[0m \u001b[1;36m1\u001b[0m\u001b[1;33m:\u001b[0m\u001b[1;33m\u001b[0m\u001b[1;33m\u001b[0m\u001b[0m\n",
      "\u001b[1;32mpandas/_libs/index.pyx\u001b[0m in \u001b[0;36mpandas._libs.index.IndexEngine.get_loc\u001b[1;34m()\u001b[0m\n",
      "\u001b[1;32mpandas/_libs/index.pyx\u001b[0m in \u001b[0;36mpandas._libs.index.IndexEngine.get_loc\u001b[1;34m()\u001b[0m\n",
      "\u001b[1;32mpandas/_libs/hashtable_class_helper.pxi\u001b[0m in \u001b[0;36mpandas._libs.hashtable.PyObjectHashTable.get_item\u001b[1;34m()\u001b[0m\n",
      "\u001b[1;32mpandas/_libs/hashtable_class_helper.pxi\u001b[0m in \u001b[0;36mpandas._libs.hashtable.PyObjectHashTable.get_item\u001b[1;34m()\u001b[0m\n",
      "\u001b[1;31mKeyError\u001b[0m: 'Post Total Impressions'"
     ]
    }
   ],
   "source": [
    "Paid_data = Data_f[Data_f['Post Paid Reach'] > 0]\n",
    "Organic_data = Data_f[Data_f['Post Paid Reach'] == 0.0]\n",
    "print(\"Paid_data['Post Total Reach'].mean() \", Paid_data['Post Total Reach'].mean())\n",
    "print(\"Organic_data['Post Total Reach'].mean() \", Organic_data['Post Total Reach'].mean())\n",
    "print(\"Paid_data['Post Total Impressions'].mean() \", Paid_data['Post Total Impressions'].mean())\n",
    "print(\"Organic_data['Post Total Impressions'].mean() \", Organic_data['Post Total Impressions'].mean())\n",
    "\n",
    "Q_paid = Paid_data.corr()\n",
    "sns.heatmap(Q_paid, cmap=\"YlGnBu\", vmin=-1, vmax=1, xticklabels = True, yticklabels = False)\n",
    "\n",
    "pict_paid_html = 'paid_corr.html'\n",
    "Html_file= open(os.path.join(directory_img, pict_paid_html),\"w\")\n",
    "Html_file.write(Q_paid.style.background_gradient(cmap='coolwarm').render())\n",
    "Html_file.close"
   ]
  },
  {
   "cell_type": "markdown",
   "metadata": {},
   "source": [
    "## PCA analysis\n",
    "performed after a min max scale"
   ]
  },
  {
   "cell_type": "code",
   "execution_count": null,
   "metadata": {},
   "outputs": [],
   "source": [
    "scaler = MinMaxScaler().fit(Data_f)\n",
    "Data_f_scaled = pd.DataFrame(scaler.transform(Data_f), columns = Data_f.columns)\n",
    "\n",
    "Data_reduced_scaled = Data_f_scaled.drop(['timestamp', 'moment_day_Night', 'working_day', \n",
    "                                       'Type_Video', 'is_paid',\n",
    "                                       'Organic views to 95%', 'Paid views to 95%', 'Organic Video Views',\n",
    "                                       'Paid Video Views', 'Average time video viewed', 'Video length',\n",
    "                                       'Talking About This (Post) by action type - share',\n",
    "                                       'Talking About This (Post) by action type - like',\n",
    "                                       'Talking About This (Post) by action type - comment',\n",
    "                                       'Matched Audience Targeting Consumptions by Type - other clicks',\n",
    "                                       'Negative Feedback by Type - hide_all_clicks',\n",
    "                                       'Negative Feedback by Type - hide_clicks'], axis = 1)\n",
    "\n",
    "#Data_reduced_scaled = Data_f_scaled.drop(['timestamp', 'moment_day_Night', 'is_tequila', 'working_day', \n",
    "#                                       'environment', 'mobility', 'city', 'models', 'Type_Video',\n",
    "#                                       'Organic views to 95%', 'Paid views to 95%', 'Organic Video Views',\n",
    "#                                       'Paid Video Views', 'Average time video viewed', 'Video length'], axis = 1)\n",
    "\n",
    "#Data_reduced_scaled = Data_f_scaled.drop(['timestamp'], axis = 1)\n",
    "\n",
    "Data_scaled_photo = Data_f_scaled[Data_f_scaled['Type_Video'] == 0].drop([\n",
    "    'timestamp','moment_day_Night', 'working_day', 'Type_Video',\n",
    "       'Organic views to 95%', 'Paid views to 95%', 'Organic Video Views', 'Paid Video Views', 'Average time video viewed',\n",
    "       'Video length', 'Talking About This (Post) by action type - share', 'Talking About This (Post) by action type - like',\n",
    "       'Talking About This (Post) by action type - comment', 'Matched Audience Targeting Consumptions by Type - other clicks',\n",
    "       'Negative Feedback by Type - hide_all_clicks', 'Negative Feedback by Type - hide_clicks', 'is_paid'], axis = 1).copy()\n",
    "\n",
    "Data_scaled_video = Data_f_scaled[Data_f_scaled['Type_Video'] == 1].drop([\n",
    "    'timestamp', 'moment_day_Night', 'working_day', 'Type_Video',\n",
    "      'Talking About This (Post) by action type - share', 'Talking About This (Post) by action type - like',\n",
    "      'Talking About This (Post) by action type - comment', 'Matched Audience Targeting Consumptions by Type - other clicks',\n",
    "      'Negative Feedback by Type - hide_all_clicks', 'Negative Feedback by Type - hide_clicks', 'is_paid'], axis = 1).copy()\n",
    "\n",
    "precision = 0.90\n",
    "\n",
    "pca_obj = PCA(precision)\n",
    "pc_data = pca_obj.fit_transform(Data_reduced_scaled)\n",
    "print(pca_obj.explained_variance_ratio_)\n",
    "\n",
    "pca_load = pca_obj.components_\n",
    "print(pca_load.shape)\n",
    "\n",
    "sns.heatmap(pca_load, annot = True, center = 0, xticklabels = Data_reduced_scaled.columns, yticklabels = False)"
   ]
  },
  {
   "cell_type": "markdown",
   "metadata": {},
   "source": [
    "If we perform the PCA on the data with the new features added we will see that the first 3 PC are mainly contrast vectors among the features Type_Video, moment_day_Night is_tequila and working_day.\n",
    "Whereas, if we remove moment_day_Night is_tequila and working_day (that we have added to the original dataset) along with the example of frequencies of keywords, we get that the first 3 PC are a impression and reach from people who liked the page against or with the type of the video and impression by people who liked the page vs negative feedback.\n",
    "\n",
    "Since Type_Video is actuall describing cathegories we can remove it and perform again PCA. The result is that the first PC is a weighted sum of impression and reach from people who liked the page while the second is the contrast between these features and the negative feedback. The last one is the contrast between paid and total reach/impressions v.s. the one due to people who liked the page.\n",
    "Following this last analysis, we give the following names to the axis of the first 3 PC:\n",
    "* performances on likers\n",
    "* negative feedback - likers\n",
    "* performances on non likers\n",
    "\n",
    "This result can also be interpreted claiming that the behavior of likers and people who don't like the page are orthogonal.\n",
    "\n",
    "If we also drop the features\n",
    "* 'Talking About This (Post) by action type - share',\n",
    "* 'Talking About This (Post) by action type - like',\n",
    "* 'Talking About This (Post) by action type - comment',\n",
    "* 'Matched Audience Targeting Consumptions by Type - other clicks',\n",
    "* 'Negative Feedback by Type - hide_all_clicks',\n",
    "* 'Negative Feedback by Type - hide_clicks'\n",
    "we observe that the second PC has a more important component of the organic performances and engagement which means that organic performances, engagement and negative feedback are indipendent.\n",
    "\n",
    "If we introduce the paid it will revolutionate the whole dataset becoming the most important feature"
   ]
  },
  {
   "cell_type": "code",
   "execution_count": null,
   "metadata": {},
   "outputs": [],
   "source": [
    "pca_obj_photo = PCA(precision)\n",
    "pc_data_photo = pca_obj_photo.fit_transform(Data_scaled_photo)\n",
    "print(pca_obj_photo.explained_variance_ratio_)\n",
    "\n",
    "pca_load_photo = pca_obj_photo.components_\n",
    "print(pca_load_photo.shape)\n",
    "\n",
    "sns.heatmap(pca_load_photo, annot = True, center = 0, xticklabels = Data_scaled_photo.columns, yticklabels = False)"
   ]
  },
  {
   "cell_type": "markdown",
   "metadata": {},
   "source": [
    "For the photos the situation is quite different and the first 3 PC can be interpreted as\n",
    "* Organic performances engagement, negative feedback, total performances on likers\n",
    "* Organic performances and engagement vs total and paid\n",
    "* All performances vs  paid performances on likers\n",
    "\n",
    "The fact that the these PCA are quite different from the previous ones means that the data between videos and photos are different"
   ]
  },
  {
   "cell_type": "code",
   "execution_count": null,
   "metadata": {
    "scrolled": true
   },
   "outputs": [],
   "source": [
    "pca_obj_video = PCA(precision)\n",
    "pc_data_video = pca_obj_video.fit_transform(Data_scaled_video)\n",
    "print(pca_obj_video.explained_variance_ratio_)\n",
    "\n",
    "pca_load_video = pca_obj_video.components_\n",
    "print(pca_load_video.shape)\n",
    "\n",
    "sns.heatmap(pca_load_video, annot = True, center = 0, xticklabels = Data_scaled_video.columns, yticklabels = False)"
   ]
  },
  {
   "cell_type": "markdown",
   "metadata": {},
   "source": [
    "For the videos the situation is quite different and the first 3 PC can be interpreted as\n",
    "* performances on likers\n",
    "* Organic performances, engagement and negative feedback vs impressions on likers\n",
    "* no clear meaning\n",
    "\n",
    "This confirms that data between videos and photos are different"
   ]
  },
  {
   "cell_type": "markdown",
   "metadata": {},
   "source": [
    "## 2 ways ANOVA using statsmodels\n",
    "The purpose of this study is to use 2ways ANOVA  to understand which features play an important role in the definition of the role played by some categorical variables on the variable of bigger interest (Total Reach and Total Impressions)\n",
    "In order to do this we will start with a complete model and then we will remove progressively the less important variables starting from interactions whenever possible.\n",
    "\n",
    "Attention: we will consider only interactions up to the second level"
   ]
  },
  {
   "cell_type": "code",
   "execution_count": null,
   "metadata": {},
   "outputs": [],
   "source": [
    "#We in order to use ANOVA we must have all the labels without spaces otherwise formulas won't work\n",
    "Data_ANOVA = Data_f_scaled.copy()\n",
    "new_list = []\n",
    "for i in range(len(Data_ANOVA.columns)):\n",
    "    new_list.append(Data_ANOVA.columns[i].replace(\" \", \"_\"))\n",
    "\n",
    "Data_ANOVA.columns = new_list"
   ]
  },
  {
   "cell_type": "code",
   "execution_count": null,
   "metadata": {},
   "outputs": [],
   "source": [
    "import statsmodels.api as sm\n",
    "from statsmodels.formula.api import ols\n",
    "\n",
    "class Iterative_ANOVA():\n",
    "    def __init__(self, data, y_lab, x_in_lab_list, thres = 0.01):\n",
    "        self.data = data\n",
    "        self.thres = thres\n",
    "        self.y_lab = y_lab\n",
    "        self.__x_lab_list__ = []\n",
    "        for lab in x_in_lab_list:\n",
    "            self.__x_lab_list__.append('C(' + lab + ')')\n",
    "        self.__full_list__ = self.__x_lab_list__ + self.__create_inter__(self.__x_lab_list__)\n",
    "        self.__curr_list__ = self.__full_list__\n",
    "        self.p_values_history = {key : [] for key in self.__full_list__}\n",
    "        self.history = []\n",
    "        self.last_model = []\n",
    "        \n",
    "    def __create_inter__(self, __x_lab_list__):\n",
    "        res = []\n",
    "        for i in range(len(__x_lab_list__)-1):\n",
    "            for j in range(i+1,len(__x_lab_list__)):\n",
    "                res.append(__x_lab_list__[i] + ':' + __x_lab_list__[j])\n",
    "        return res\n",
    "    \n",
    "    def __create_formula__(self):\n",
    "        formula = self.y_lab + ' ~ '\n",
    "        for lab in self.__curr_list__:\n",
    "            formula = formula + lab + ' + '\n",
    "        return formula[:-3]\n",
    "    \n",
    "    # function that remove the interaction terms of labels already used \n",
    "    def __remove_inter__(self, basic_label):\n",
    "        to_remove = []\n",
    "        for lab in self.__curr_list__:\n",
    "            if basic_label in lab:\n",
    "                to_remove.append(lab)\n",
    "        \n",
    "        for lab in to_remove:\n",
    "            self.__curr_list__.remove(lab)\n",
    "            \n",
    "    def fit(self):\n",
    "        max_p = 1\n",
    "        max_lab = 'not_a_label'\n",
    "        curr_anova = []\n",
    "        n_iter = 0\n",
    "        print(\"Starting ANOVA with:\")\n",
    "        print(self.__curr_list__)\n",
    "        while max_p > self.thres:\n",
    "            #remove feature and its interactions\n",
    "            if max_lab in self.__curr_list__:\n",
    "                    self.__remove_inter__(max_lab)\n",
    "            \n",
    "            #create new formula\n",
    "            curr_formula = self.__create_formula__()\n",
    "            \n",
    "            #compute new ANOVA\n",
    "            curr_anova = ols(curr_formula, data = self.data).fit()\n",
    "            table = sm.stats.anova_lm(curr_anova, typ=2) # Type 2 ANOVA DataFrame\n",
    "            max_lab = table['PR(>F)'].idxmax()\n",
    "            max_p = table['PR(>F)'].max()\n",
    "            print(\"ANOVA iter\", n_iter)\n",
    "            print(self.__curr_list__)\n",
    "            print(max_lab)\n",
    "            print(max_p)\n",
    "            self.history.append(curr_anova)\n",
    "            for lab in self.__full_list__:\n",
    "                if lab in self.__curr_list__:\n",
    "                    self.p_values_history[lab].append(table['PR(>F)'][lab])\n",
    "                else:\n",
    "                    self.p_values_history[lab].append(1)\n",
    "        \n",
    "            n_iter += 1\n",
    "        \n",
    "        self.last_model = curr_anova\n",
    "        return curr_anova\n",
    "\n",
    "    def get_curr_list(self):\n",
    "        return self.__curr_list__\n",
    "    \n",
    "    def show_p_values_history(self):\n",
    "        return p_values_history\n",
    "    \n",
    "    def summary():\n",
    "        print(p_values_history)\n",
    "        return self.last_model"
   ]
  },
  {
   "cell_type": "code",
   "execution_count": null,
   "metadata": {},
   "outputs": [],
   "source": [
    "Reach_ANOVA = Iterative_ANOVA(Data_ANOVA, 'Post_Total_Reach',\n",
    "                              #['Type_Video', 'is_tequila', 'is_paid', 'working_day', 'moment_day_Night'], 0.5)\n",
    "                              ['Type_Video', 'working_day', 'moment_day_Night'], 0.01)\n",
    "Reach_model = Reach_ANOVA.fit()\n",
    "Reach_rel_cat = Reach_ANOVA.get_curr_list()"
   ]
  },
  {
   "cell_type": "code",
   "execution_count": null,
   "metadata": {},
   "outputs": [],
   "source": [
    "sm.stats.anova_lm(Reach_ANOVA.history[5], typ=2)"
   ]
  },
  {
   "cell_type": "code",
   "execution_count": null,
   "metadata": {},
   "outputs": [],
   "source": [
    "Impression_ANOVA = Iterative_ANOVA(Data_ANOVA, 'Post_Total_Impressions',\n",
    "                              ['Type_Video', 'working_day', 'moment_day_Night'], 0.01)\n",
    "Impression_model = Impression_ANOVA.fit()\n",
    "Impression_rel_cat = Impression_ANOVA.get_curr_list()"
   ]
  },
  {
   "cell_type": "markdown",
   "metadata": {},
   "source": [
    "If we use the is_paid variable we get numerical error due to the singularity of covariance matrices which means that some features are linear combinations of others. This is normal due to the lack of paid in a lot of moment. It is interesting to see that the only relevant variable is the difference between photos and videos."
   ]
  },
  {
   "cell_type": "markdown",
   "metadata": {},
   "source": [
    "## Linear regression\n",
    "\n",
    "Now that we know which factors have an impact on the impressions and on the reach we can try to perform some linear regressions to be able to better quantify the relationship between the different features and the variables we want to predict"
   ]
  },
  {
   "cell_type": "code",
   "execution_count": null,
   "metadata": {},
   "outputs": [],
   "source": [
    "print(Reach_rel_cat)\n",
    "#LR_Reach =  ols(curr_formula, data = self.data).fit()\n",
    "print(Data_ANOVA.columns)\n",
    "\n"
   ]
  },
  {
   "cell_type": "markdown",
   "metadata": {},
   "source": [
    "Laura's notes:\n",
    "\n",
    "in order to map content into vectors we can use the package \"gensim\". but we need a glossary of words and in order to do that we need an extractor which basically takes all the words without repetition removing the gender and all useless stuff....\n"
   ]
  },
  {
   "cell_type": "markdown",
   "metadata": {},
   "source": [
    "## Clustering analysis\n",
    "We try to find group of common posts using different algorithms\n",
    "info about possible distances availables on https://scikit-learn.org/stable/modules/generated/sklearn.metrics.pairwise_distances.html"
   ]
  },
  {
   "cell_type": "code",
   "execution_count": null,
   "metadata": {},
   "outputs": [],
   "source": [
    "from sklearn.cluster import KMeans\n",
    "from sklearn.cluster import DBSCAN\n",
    "from sklearn.cluster import SpectralClustering\n",
    "from sklearn.metrics.pairwise import euclidean_distances\n",
    "from sklearn.metrics import silhouette_score\n",
    "\n",
    "def mean_intra_cluster_dist(clusters, distance = euclidean_distances):\n",
    "    mean = 0\n",
    "    n_clusters = clusters.shape[0]\n",
    "    n_feat = clusters.shape[1]\n",
    "    for i in range(n_clusters-1):\n",
    "        for j in range(i+1,n_clusters):\n",
    "            mean += distance(clusters[i,:].reshape(1, n_feat), clusters[j,:].reshape(1, n_feat))\n",
    "    return float(mean/(n_clusters*(n_clusters-1)/2))"
   ]
  },
  {
   "cell_type": "code",
   "execution_count": null,
   "metadata": {},
   "outputs": [],
   "source": [
    "min_clust = 2\n",
    "max_clust = 10\n",
    "n_clust_vec = range(min_clust, max_clust)\n",
    "metric_str = 'euclidean'\n",
    "# inertie silhouette \n",
    "\n",
    "# kmeans works well with n-dim balls\n",
    "k_means_list = [];\n",
    "k_means_results = [];\n",
    "k_means_silhouettes = [];\n",
    "\n",
    "fig = plt.figure(figsize=(20, 80))\n",
    "for i in n_clust_vec:\n",
    "    k_means_list.append(KMeans(n_clusters = i, random_state=0))\n",
    "    k_means_results.append(k_means_list[i-min_clust].fit_predict(Data_reduced_scaled))\n",
    "    k_means_silhouettes.append(silhouette_score(Data_reduced_scaled, k_means_results[i-min_clust], metric = metric_str))\n",
    "    ax = fig.add_subplot(max_clust-min_clust, 1, i -min_clust + 1, projection='3d')\n",
    "    ax.scatter(pc_data[:,0], pc_data[:,1], pc_data[:,2], c = k_means_results[i-min_clust], cmap='viridis', marker='o')\n",
    "    ax.set_xlabel('PC 1')\n",
    "    ax.set_ylabel('PC 2')\n",
    "    ax.set_zlabel('PC 3')\n",
    "    fig.savefig(os.path.join(directory_img,\"k_m_cluster_{}.png\".format(i)))\n",
    "    plt.close()\n",
    "    \n",
    "print(k_means_silhouettes)\n",
    "\n",
    "# DBSCAN works well with more complex shapes based on density\n",
    "# find avg distance inter and intra cluster\n",
    "#DBSCAN_0 = DBSCAN().fit_predict(Data_scaled)\n",
    "#DBSCAN_1 = DBSCAN().fit_predict(Data_scaled)\n",
    "#DBSCAN_2 = DBSCAN().fit_predict(Data_scaled)\n",
    "\n",
    "# SpectralClustering works well with more complex shapes based on density\n",
    "#SpectralClustering_0 = SpectralClustering().fit_predict(Data_scaled)\n",
    "#SpectralClustering_1 = SpectralClustering().fit_predict(Data_scaled)\n",
    "#SpectralClustering_2 = SpectralClustering().fit_predict(Data_scaled)\n",
    "\n",
    "score_lst = []\n",
    "#score_lst.append(silhouette_score(Data_scaled, kmeans_0, metric = metric_str) )\n",
    "#score_lst.append(silhouette_score(Data_scaled, kmeans_1, metric = metric_str) )\n",
    "#score_lst.append(silhouette_score(Data_scaled, kmeans_2, metric = metric_str) )\n",
    "#score_lst.append(silhouette_score(Data_scaled, DBSCAN_0, metric = metric_str) )\n",
    "#score_lst.append(silhouette_score(Data_scaled, DBSCAN_1, metric = metric_str) )\n",
    "#score_lst.append(silhouette_score(Data_scaled, DBSCAN_2, metric = metric_str) )\n",
    "#score_lst.append(silhouette_score(Data_scaled, SpectralClustering_0, metric = metric_str) )\n",
    "#score_lst.append(silhouette_score(Data_scaled, SpectralClustering_1, metric = metric_str) )\n",
    "#score_lst.append(silhouette_score(Data_scaled, SpectralClustering_2, metric = metric_str) )\n",
    "\n",
    "print(score_lst)"
   ]
  },
  {
   "cell_type": "code",
   "execution_count": null,
   "metadata": {
    "scrolled": false
   },
   "outputs": [],
   "source": [
    "from yellowbrick.cluster import SilhouetteVisualizer\n",
    "\n",
    "for i in n_clust_vec:\n",
    "    fig = plt.figure(figsize=(20, 40))\n",
    "    model = SilhouetteVisualizer(KMeans(i, random_state=0))\n",
    "    model.fit(Data_reduced_scaled)\n",
    "    model.show()    \n",
    "    fig.savefig(os.path.join(directory_img, \"k_m_silhouettes_{}.png\".format(i) ))\n",
    "    plt.close()"
   ]
  },
  {
   "cell_type": "markdown",
   "metadata": {},
   "source": [
    "these graphs show us that no k-means is ideal, the best one is with k = 2. Increasing k with are forcing the algorithm to find clusters that do not exist in reality.\n",
    "Silhouette close to 0 means that the algorithm is either completely wrong or the parameters are not working.\n",
    "The negative we see points out that the data should go in another cluster but increasing the number of cluster doesn't solve this and even create too small clusters. What we should do is to study how to create similarities or to remove features in order to work only with easier data. "
   ]
  },
  {
   "cell_type": "markdown",
   "metadata": {},
   "source": [
    "## TSNE (Alternative to the PCA)\n",
    "Another interesting method for dimensionality reduction and data visualization is the TSNE whose approach is explained at https://en.wikipedia.org/wiki/T-distributed_stochastic_neighbor_embedding"
   ]
  },
  {
   "cell_type": "code",
   "execution_count": null,
   "metadata": {},
   "outputs": [],
   "source": [
    "from sklearn.manifold import TSNE\n",
    "from mpl_toolkits.mplot3d import Axes3D\n",
    "\n",
    "Data_TSNE_2 = TSNE(n_components=2).fit_transform(Data_reduced_scaled)\n",
    "Data_TSNE_3 = TSNE(n_components=3).fit_transform(Data_reduced_scaled)\n",
    "\n",
    "fig = plt.figure(figsize=(20, 40))\n",
    "Data_Video = Data_f[Data_f['Type_Video'] == 1]\n",
    "ax = fig.add_subplot(2, 1, 1)\n",
    "ax.scatter(Data_TSNE_3[:,0], Data_TSNE_3[:,1], c = k_means_results[0], cmap='viridis', marker='o', s = 30)\n",
    "ax.set_xlabel('TSNE_2 1')\n",
    "ax.set_ylabel('TSNE_2 2')\n",
    "\n",
    "ax = fig.add_subplot(2, 1, 2, projection='3d')\n",
    "ax.scatter(Data_TSNE_3[:,0], Data_TSNE_3[:,1], Data_TSNE_3[:,2], c = k_means_results[0], cmap='viridis', marker='o', s = 30)\n",
    "ax.set_xlabel('TSNE_3 1')\n",
    "ax.set_ylabel('TSNE_3 2')\n",
    "ax.set_zlabel('TSNE_3 3')\n",
    "\n",
    "fig.savefig(os.path.join(directory_img, \"tsne.png\"))"
   ]
  },
  {
   "cell_type": "code",
   "execution_count": null,
   "metadata": {},
   "outputs": [],
   "source": [
    "Data4['Posted']"
   ]
  },
  {
   "cell_type": "markdown",
   "metadata": {},
   "source": [
    "With the current set of parameters we are not able to find a clear clusterisation of the elements. For this reason the TSNE won't be considered in the future."
   ]
  }
 ],
 "metadata": {
  "kernelspec": {
   "display_name": "Python 3",
   "language": "python",
   "name": "python3"
  },
  "language_info": {
   "codemirror_mode": {
    "name": "ipython",
    "version": 3
   },
   "file_extension": ".py",
   "mimetype": "text/x-python",
   "name": "python",
   "nbconvert_exporter": "python",
   "pygments_lexer": "ipython3",
   "version": "3.6.10"
  }
 },
 "nbformat": 4,
 "nbformat_minor": 2
}
